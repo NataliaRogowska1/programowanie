{
  "nbformat": 4,
  "nbformat_minor": 0,
  "metadata": {
    "colab": {
      "provenance": []
    },
    "kernelspec": {
      "name": "python3",
      "display_name": "Python 3"
    },
    "language_info": {
      "name": "python"
    }
  },
  "cells": [
    {
      "cell_type": "code",
      "execution_count": null,
      "metadata": {
        "id": "PdxY4xVcgnce"
      },
      "outputs": [],
      "source": [
        "!pip install spacy -U"
      ]
    },
    {
      "cell_type": "code",
      "source": [
        "!python -m spacy download pl_core_news_lg"
      ],
      "metadata": {
        "id": "Sw7Nb6cokNpF"
      },
      "execution_count": null,
      "outputs": []
    },
    {
      "cell_type": "code",
      "source": [
        "import spacy"
      ],
      "metadata": {
        "id": "GxmT7fTdmdqf"
      },
      "execution_count": 3,
      "outputs": []
    },
    {
      "cell_type": "code",
      "source": [
        "nlp = spacy.load(\"pl_core_news_lg\")"
      ],
      "metadata": {
        "id": "4ryPS62AmlQz"
      },
      "execution_count": 4,
      "outputs": []
    },
    {
      "cell_type": "code",
      "source": [
        "olga_tokarczuk = \"\"\"Olga Nawoja Tokarczuk (ur. 29 stycznia 1962 w Sulechowie) – polska pisarka, eseistka, poetka i autorka scenariuszy, laureatka Nagrody Nobla w dziedzinie literatury za rok 2018, laureatka The Man Booker International Prize 2018 za powieść Bieguni (Flights) oraz dwukrotna laureatka Nagrody Literackiej „Nike” za powieści: Bieguni (2008) i Księgi Jakubowe (2015).\n",
        "\n",
        "Życiorys\n",
        "\n",
        "Córka nauczycieli – Wandy i Józefa Tokarczuków. Ma siostrę. Urodziła się w Sulechowie, a wychowała w Klenicy, skąd przeniosła się z rodzicami do Kietrza. Tam ukończyła Liceum Ogólnokształcące im. Cypriana Kamila Norwida. Jest absolwentką Wydziału Psychologii Uniwersytetu Warszawskiego. W czasie studiów, jako wolontariuszka opiekowała się osobami z problemami psychicznymi. Zainteresowała się również pracami Carla Junga, co wywarło wpływ na jej twórczość. Po studiach pracowała jako psychoterapeutka w poradni zdrowia psychicznego w Wałbrzychu.\n",
        "Z pierwszego małżeństwa, zawartego w 1985, z wydawcą Romanem Fingasem ma syna, Zbigniewa (ur. 1986). Jej obecnym mężem jest Grzegorz Zygadło. Jest wegetarianką. Mieszka we Wrocławiu i posiada dom w Krajanowie.\n",
        "\n",
        "\n",
        "Twórczość\n",
        "Zadebiutowała w 1979 na łamach pisma „Na przełaj”, gdzie pod pseudonimem „Natasza Borodin” opublikowała pierwsze opowiadania. Jako powieściopisarka zadebiutowała w 1993 wydaną wówczas Podróżą ludzi Księgi. Książka uzyskała nagrodę Polskiego Towarzystwa Wydawców Książek. Publikowała m.in. w „Mandragorze”. W latach 1997-2000 była stałą współpracowniczką czasopisma „Charaktery”, pisząc dlań eseje.\n",
        "W 1995 ukazała się jej druga powieść, E.E. Książka opowiada o dojrzewaniu dziewczynki, która nagle uzyskuje zdolności parapsychiczne. Dużym sukcesem Tokarczuk okazała się wydana w 1996 powieść Prawiek i inne czasy. Rok 1997 przyniósł zbiór opowiadań zatytułowany Szafa, a w 1998 pisarka opublikowała powieść pt. Dom dzienny, dom nocny. W 2004 ukazały się Ostatnie historie. Książka ta składa się z trzech oddzielnych opowieści o babce, matce i wnuczce, ukazanych w niezależnych od siebie czasie i przestrzeni.\n",
        "Jest twórczynią opowiadania Bardo. Szopka, zawierającego opis ruchomej szopki z klasztoru redemptorystów w Bardzie.\n",
        "W pierwszej połowie października 2007 ukazała się jej powieść Bieguni. Pracowała nad nią trzy lata. Wspomina, że większość notatek robiła w czasie podróży. „Ale nie jest to książka o podróży. Nie ma w niej opisów zabytków i miejsc. Nie jest to dziennik podróży ani reportaż. Chciałam raczej przyjrzeć się temu, co to znaczy podróżować, poruszać się, przemieszczać. Jaki to ma sens? Co nam to daje? Co to znaczy” – napisała we wstępie. Jak mówi, „pisanie powieści jest dla mnie przeniesionym w dojrzałość opowiadaniem sobie samemu bajek. Tak jak to robią dzieci, zanim zasną. Posługują się przy tym językiem z pogranicza snu i jawy, opisują i zmyślają”.\n",
        "W rankingu tygodnika Wprost, obejmującym najlepiej zarabiających pisarzy w Polsce w 2019, zajęła 3. miejsce.\n",
        "Od 2019 asystentką Olgi Tokarczuk jest ukraińska poetka Iryna Wikyrczak. Była członkinią Stowarzyszenia Pisarzy Polskich do sierpnia 2020 roku.\n",
        "\n",
        "\n",
        "Działalność\n",
        "Była współorganizatorką Festiwalu Opowiadania, podczas którego autorzy krótkich form literackich z Polski i zagranicy prezentują swoje utwory. Prowadziła warsztaty prozatorskie w Studium Literacko-Artystycznym na Uniwersytecie Jagiellońskim w Krakowie. W 2008 prowadziła zajęcia z twórczego pisarstwa na Uniwersytecie Opolskim. Współpracowała z Partią Zielonych i była członkinią redakcji „Krytyki Politycznej”.\n",
        "Od 2015 organizuje w Nowej Rudzie i okolicach Festiwal Góry Literatury przy współudziale Karola Maliszewskiego, Stowarzyszenia Kulturalnego „Góry Babel” oraz miasta i gminy Nowa Ruda. W programie festiwalu znajdują się: akcje edukacyjne, debaty, koncerty, panele, pokazy, spotkania, Noworudzkie Spotkania z Poezją, warsztaty (filmowe, kulinarne i literackie) oraz wystawy.\n",
        "2 grudnia 2019 we Wrocławiu zapowiedziała powołanie fundacji, z siedzibą w willi Tymoteusza Karpowicza przy ul. Krzyckiej 29, która za swoje cele obierze m.in. wspieranie i promocję polskiej kultury, w tym pisarzy i tłumaczy; działanie na rzecz praw człowieka, w tym przeciwdziałanie dyskryminacji i ograniczaniu swobód obywatelskich oraz ochronę środowiska, w tym walkę o prawa zwierząt. Pisarka na fundusz założycielski przekaże 350 tys. zł z nagrody Nobla. Fundacja ma być przestrzenią dla międzynarodowej rozmowy o możliwościach literatury w diagnozowaniu świata, w opisywaniu rzeczywistości, w której niebezpiecznie szybko narastają nastroje ksenofobiczne i nacjonalistyczne. Do jej rady powołani zostali Agnieszka Holland i Irek Grin, szef Wrocławskiego Domu Literatury.\n",
        "\n",
        "\n",
        "Poglądy, odbiór\n",
        "Jest feministką. Wspiera działania na rzecz ochrony środowiska, praw zwierząt, równouprawnienia i społeczeństwa obywatelskiego. Jest członkinią Rady Fundacji im. Stefana Batorego. Regularnie uczestniczy w paradach równości. Deklaruje, że nie należy do Kościoła katolickiego.\n",
        "W przemowie noblowskiej Wikipedię, którą podziwia i wspiera, porównała z koncepcją pansofii Jana Amosa Komenskiego, czyli omniscjencji – wiedzy pełnej.\n",
        "Jej działalność, poglądy oraz twórczość były kilkunastokrotnie obiektami krytyki ze strony niektórych mediów prawicowych i konserwatywnych, a także działaczy Prawa i Sprawiedliwości oraz Reduty Dobrego Imienia(ang.).\n",
        "\n",
        "\n",
        "Tłumacze\n",
        "Według Instytutu Książki do października 2019 ukazały się 193 tłumaczenia książek Olgi Tokarczuk. Następnych 12 pojawi się pod koniec 2019 i w 2020, m.in. w Bułgarii, Egipcie, Izraelu, Korei Południowej, Serbii i na Ukrainie. 90 tłumaczy przełożyło jej książki na 37 języków, w tym na najczęściej używane na świecie, m.in.: angielski, arabski, chiński, hindi, hiszpański, japoński, niemiecki, perski, portugalski i rosyjski.\n",
        "\n",
        "\n",
        "Adaptacje\n",
        "Prawiek i inne czasy (1997) – Teatr Wierszalin w Supraślu, reżyseria i adaptacja Sebastian Majewski.\n",
        "Bieguni (2021) – Teatr Powszechny w Warszawie, reżyseria Michał Zadara.\n",
        "\n",
        "\n",
        "Ekranizacje\n",
        "E.E. (1998, spektakl teatru telewizji na podstawie powieści pod tym samym tytułem; reż. Maria Zmarz-Koczanowicz, w roli Erny Eltzner wystąpiła Agata Buzek);\n",
        "Prawiek i inne czasy (1998, spektakl teatru telewizji na podstawie powieści pod tym samym tytułem; reż. Piotr Tomaszuk, w rolach głównych Joanna Kasperek i Jan Peszek);\n",
        "Numery (2000, spektakl teatru telewizji na podstawie opowiadania Numery z tomu Szafa; reż. Agnieszka Lipiec-Wróblewska, w roli Miss L. wystąpiła Ewa Dałkowska);\n",
        "Skarb (2000, spektakl teatru telewizji na motywach fragmentów powieści Dom dzienny, dom nocny; reż. Piotr Mularuk, w roli Krystyny Popłoch wystąpiła Maja Ostaszewska);\n",
        "Żurek (2003, film fabularny na podstawie opowiadania pod tym samym tytułem z tomu Gra na wielu bębenkach, reż. Ryszard Brylski);\n",
        "Miłości (2004, spektakl teatru telewizji na motywach opowiadań z tomu Gra na wielu bębenkach; reż. Filip Zylber);\n",
        "Aria Diva (2007, film fabularny krótkometrażowy na podstawie opowiadania Ariadna na Naksos z tomu Gra na wielu bębenkach, reż. Agnieszka Smoczyńska);\n",
        "Zniknięcie (2011, film fabularny krótkometrażowy na podstawie wątków powieści Bieguni, reż. Adam Uryniak);\n",
        "Glicynia (2016, krótkometrażowy), reż. Izabela Kiszczak\n",
        "Pokot (2017, film fabularny na podstawie powieści Prowadź swój pług przez kości umarłych, reż. Agnieszka Holland i Kasia Adamik).\n",
        "Noc w Mariandzie (Noc v Mariandu, 2019), reż. Matěj Chlupáček, Maja Hamplová, Martin Hradecký\n",
        "\n",
        "Nagrody\n",
        "\n",
        "1993 Nagroda Polskiego Towarzystwa Wydawców Książek za Podróż ludzi Księgi\n",
        "1996 Paszport „Polityki” – literatura\n",
        "1997 Nagroda Literacka „Nike” Czytelników za Prawiek i inne czasy\n",
        "1997 Nagroda Fundacji im. Kościelskich\n",
        "1999 Nagroda Literacka „Nike” Czytelników za Dom dzienny, dom nocny\n",
        "1999 Nagroda Literacka im. Władysława Reymonta\n",
        "2002 Nagroda Literacka „Nike” Czytelników za książkę Gra na wielu bębenkach\n",
        "2005.12.28 Honorowa Obywatelka Miasta i Gminy Bardo.\n",
        "2007 Nagroda miesięcznika Odra za powieść Bieguni i wcześniejsze dzieła\n",
        "2008 Nagroda Literacka „Nike” za powieść Bieguni\n",
        "2008.10.05 Nagroda Literacka „Nike” Czytelników za powieść Bieguni\n",
        "2008 Nagroda im. Samuela B. Lindego, polsko-niemiecka nagroda przyznawana przez władze partnerskich miast: Torunia i Getyngi\n",
        "2009 Honorowa obywatelka Nowej Rudy\n",
        "2010 nominowana do Nagrody Literackiej Nike za Prowadź swój pług przez kości umarłych\n",
        "2013 Nagroda Vilenica, międzynarodowa, przyznawana pisarzom z Europy Środkowej\n",
        "2014 Dolnośląska Nagroda Kulturalna „Silesia” Sejmiku Województwa Dolnośląskiego\n",
        "2015 Nagroda Literacka „Nike” za Księgi Jakubowe\n",
        "2015 Nagroda Literacka „Nike” Czytelników za Księgi Jakubowe\n",
        "2015.05.22 Uhonorowana płytą z brązu w Alei Pisarzy przy MBP im. Ł. Górnickiego, Galeria Książki w Oświęcimiu\n",
        "2015 Międzynarodowa Nagroda Mostu miast Görlitz i Zgorzelec\n",
        "2016 „Zasłużona dla Miasta Wałbrzycha”, wyróżnienie Rady Miejskiej Wałbrzycha.\n",
        "2017.01 Międzynarodowa Nagroda Literacka Samorządu Sztokholmu za Księgi Jakubowe\n",
        "2017.05.27 Gwiazda w Alei Gwiazd Literatury przy Miejskiej Bibliotece Publicznej w Mińsku Mazowieckim.\n",
        "2017.09.10 Nagroda IX Kongresu Kobiet, Poznań\n",
        "2018.04.21 Nagroda Polcul Foundation „za działalność społeczną w dziedzinie kultury na Dolnym Śląsku”\n",
        "2018.05.22 Nagroda The Man Booker International Prize 2018 za książkę Bieguni (Flights) Fitzcarraldo Editions, tł. Jennifer Croft\n",
        "2019.06.24 Honorowa obywatelka Wrocławia\n",
        "2019.07.08 Nagroda Laure-Bataillon dla najlepszej książki przełożonej na język francuski za Księgi Jakubowe\n",
        "2019.10.10 Nagroda Nobla w dziedzinie literatury za 2018, za wyobraźnię narracyjną, która z encyklopedyczną pasją reprezentuje przekraczanie granic jako formę życia\n",
        "2019.12.20 Uchwała Sejmu RP  z okazji otrzymania przez O. Tokarczuk Nagrody Nobla.\n",
        "2019.12.30 Uchwała Rady Miejskiej Nowej Rudy ustanawiająca rok 2020 Rokiem Olgi Tokarczuk w mieście Nowa Ruda.\n",
        "2020.01.14 Paszport „Polityki” – nagroda specjalna Kreator Kultury\n",
        "2020.06.18 Honorowy obywatel miasta stołecznego Warszawy\n",
        "2020.09.20 Nagroda „La storia in un romanzo 2020”\n",
        "2020.09.24 Honorowy Obywatel Dolnego Śląska „Civi Honorario” – tytuł nieprzyjęty.\n",
        "2020.12.16 Doktor honoris causa Uniwersytetu Warszawskiego\n",
        "\n",
        "\n",
        "Odznaczenia\n",
        "Srebrny Medal „Zasłużony Kulturze Gloria Artis” – 2010\n",
        "Odznaka Honorowa Złota „Zasłużony dla Województwa Dolnośląskiego” – 2018\n",
        "Odznaka Honorowa Powiatu Kłodzkiego – 2019\n",
        "Medal Senatu RP – 2019\n",
        "\"\"\"\n",
        "\n"
      ],
      "metadata": {
        "id": "3VuaO9CboCdj"
      },
      "execution_count": 36,
      "outputs": []
    },
    {
      "cell_type": "code",
      "source": [
        "doc = nlp(olga_tokarczuk)"
      ],
      "metadata": {
        "id": "uL--qkG0qBXO"
      },
      "execution_count": 37,
      "outputs": []
    },
    {
      "cell_type": "code",
      "source": [
        "for token in doc:\n",
        "  print(token.text, token.lemma_, token.pos_)"
      ],
      "metadata": {
        "id": "FcZzAqV3qLo8"
      },
      "execution_count": null,
      "outputs": []
    },
    {
      "cell_type": "code",
      "source": [
        "for token in doc:\n",
        "  print(token.text, token.tag_)"
      ],
      "metadata": {
        "id": "kAqk9j5Nrh7i"
      },
      "execution_count": null,
      "outputs": []
    },
    {
      "cell_type": "code",
      "source": [
        "rzeczowniki = []\n",
        "przymiotniki = []"
      ],
      "metadata": {
        "id": "Du7G_oNhvKA3"
      },
      "execution_count": 40,
      "outputs": []
    },
    {
      "cell_type": "code",
      "source": [
        "for token in doc:\n",
        "    if token.pos_ == \"NOUN\":\n",
        "        rzeczowniki.append(token.text)\n",
        "    elif token.pos_ == \"ADJ\":\n",
        "        przymiotniki.append(token.text)"
      ],
      "metadata": {
        "id": "QEcLgqmLwxzg"
      },
      "execution_count": 42,
      "outputs": []
    },
    {
      "cell_type": "code",
      "source": [
        "print(rzeczowniki)"
      ],
      "metadata": {
        "colab": {
          "base_uri": "https://localhost:8080/"
        },
        "id": "H3SEAwlUw6OG",
        "outputId": "0a180e3b-ecc9-4b29-c9bd-e464725a57df"
      },
      "execution_count": 43,
      "outputs": [
        {
          "output_type": "stream",
          "name": "stdout",
          "text": [
            "['stycznia', 'pisarka', 'eseistka', 'poetka', 'autorka', 'scenariuszy', 'laureatka', 'Nagrody', 'dziedzinie', 'literatury', 'rok', 'laureatka', 'powieść', 'Flights', 'laureatka', 'Nagrody', 'powieści', 'Księgi', 'Życiorys', 'Córka', 'nauczycieli', 'siostrę', 'rodzicami', 'Liceum', 'absolwentką', 'Wydziału', 'Psychologii', 'Uniwersytetu', 'czasie', 'studiów', 'wolontariuszka', 'osobami', 'problemami', 'pracami', 'wpływ', 'twórczość', 'studiach', 'psychoterapeutka', 'poradni', 'zdrowia', 'małżeństwa', 'wydawcą', 'syna', 'mężem', 'wegetarianką', 'dom', 'Twórczość', 'łamach', 'pisma', 'pseudonimem', 'opowiadania', 'powieściopisarka', 'Podróżą', 'ludzi', 'Księgi', 'Książka', 'nagrodę', 'Towarzystwa', 'Wydawców', 'Książek', 'latach', 'współpracowniczką', 'czasopisma', 'Charaktery', 'eseje', 'powieść', 'Książka', 'dojrzewaniu', 'dziewczynki', 'zdolności', 'sukcesem', 'powieść', 'czasy', 'Rok', 'zbiór', 'opowiadań', 'Szafa', 'pisarka', 'powieść', 'Dom', 'dom', 'historie', 'Książka', 'opowieści', 'babce', 'matce', 'wnuczce', 'czasie', 'przestrzeni', 'twórczynią', 'opowiadania', 'Szopka', 'opis', 'szopki', 'klasztoru', 'redemptorystów', 'Bardzie', 'połowie', 'października', 'powieść', 'lata', 'większość', 'notatek', 'czasie', 'podróży', 'książka', 'podróży', 'opisów', 'zabytków', 'miejsc', 'dziennik', 'podróży', 'reportaż', 'sens', 'wstępie', 'pisanie', 'powieści', 'dojrzałość', 'opowiadaniem', 'bajek', 'dzieci', 'językiem', 'snu', 'jawy', 'rankingu', 'tygodnika', 'pisarzy', 'miejsce', 'asystentką', 'poetka', 'członkinią', 'Stowarzyszenia', 'Pisarzy', 'sierpnia', 'roku', 'Działalność', 'współorganizatorką', 'Festiwalu', 'Opowiadania', 'autorzy', 'form', 'zagranicy', 'utwory', 'warsztaty', 'Studium', 'Uniwersytecie', 'zajęcia', 'pisarstwa', 'Uniwersytecie', 'Partią', 'członkinią', 'redakcji', 'Krytyki', 'okolicach', 'Festiwal', 'Góry', 'Literatury', 'współudziale', 'Stowarzyszenia', 'miasta', 'gminy', 'Ruda', 'programie', 'festiwalu', 'akcje', 'debaty', 'koncerty', 'panele', 'pokazy', 'spotkania', 'Spotkania', 'Poezją', 'warsztaty', 'wystawy', 'grudnia', 'powołanie', 'fundacji', 'siedzibą', 'willi', 'cele', 'wspieranie', 'promocję', 'kultury', 'pisarzy', 'działanie', 'rzecz', 'praw', 'człowieka', 'przeciwdziałanie', 'dyskryminacji', 'ograniczaniu', 'swobód', 'ochronę', 'środowiska', 'walkę', 'prawa', 'zwierząt', 'Pisarka', 'fundusz', 'nagrody', 'Fundacja', 'przestrzenią', 'rozmowy', 'możliwościach', 'literatury', 'diagnozowaniu', 'świata', 'opisywaniu', 'rzeczywistości', 'nastroje', 'rady', 'szef', 'Domu', 'Literatury', 'Poglądy', 'odbiór', 'feministką', 'działania', 'rzecz', 'ochrony', 'środowiska', 'praw', 'zwierząt', 'równouprawnienia', 'społeczeństwa', 'członkinią', 'Rady', 'Fundacji', 'paradach', 'równości', 'Kościoła', 'przemowie', 'koncepcją', 'pansofii', 'wiedzy', 'działalność', 'poglądy', 'twórczość', 'obiektami', 'krytyki', 'strony', 'mediów', 'działaczy', 'Prawa', 'Sprawiedliwości', 'Reduty', 'Imienia', 'Tłumacze', 'Instytutu', 'Książki', 'października', 'tłumaczenia', 'książek', 'Olgi', 'koniec', 'książki', 'języków', 'świecie', 'angielski', 'hindi', 'Adaptacje', 'Prawiek', 'czasy', 'Teatr', 'reżyseria', 'adaptacja', 'Teatr', 'reżyseria', 'Ekranizacje', 'spektakl', 'teatru', 'telewizji', 'podstawie', 'powieści', 'tytułem', 'roli', 'Prawiek', 'czasy', 'spektakl', 'teatru', 'telewizji', 'podstawie', 'powieści', 'tytułem', 'rolach', 'Numery', 'spektakl', 'teatru', 'telewizji', 'podstawie', 'opowiadania', 'Numery', 'tomu', 'Szafa', 'roli', 'Miss', 'Skarb', 'spektakl', 'teatru', 'telewizji', 'motywach', 'fragmentów', 'powieści', 'Dom', 'dom', 'roli', 'film', 'podstawie', 'opowiadania', 'tytułem', 'tomu', 'bębenkach', 'Miłości', 'spektakl', 'teatru', 'telewizji', 'motywach', 'opowiadań', 'tomu', 'bębenkach', 'film', 'podstawie', 'opowiadania', 'tomu', 'bębenkach', 'Zniknięcie', 'film', 'podstawie', 'wątków', 'powieści', 'Glicynia', 'film', 'podstawie', 'powieści', 'pług', 'kości', 'Noc', 'Noc', 'Nagrody', 'Nagroda', 'Towarzystwa', 'Wydawców', 'Książek', 'Podróż', 'ludzi', 'Księgi', 'Paszport', 'Polityki', 'literatura', 'Nagroda', 'Czytelników', 'czasy', 'Nagroda', 'Fundacji', 'Nagroda', 'Czytelników', 'Dom', 'dom', 'Nagroda', 'Nagroda', 'Czytelników', 'książkę', 'bębenkach', 'Obywatelka', 'Miasta', 'Gminy', 'Nagroda', 'miesięcznika', 'powieść', 'dzieła', 'Nagroda', 'powieść', 'Nagroda', 'Czytelników', 'powieść', 'Nagroda', 'nagroda', 'władze', 'miast', 'obywatelka', 'Nagrody', 'pług', 'kości', 'Nagroda', 'pisarzom', 'Nagroda', 'Sejmiku', 'Województwa', 'Nagroda', 'Księgi', 'Nagroda', 'Czytelników', 'Księgi', 'płytą', 'brązu', 'Alei', 'Pisarzy', 'Galeria', 'Książki', 'Nagroda', 'Mostu', 'miast', 'Miasta', 'wyróżnienie', 'Rady', 'Nagroda', 'Samorządu', 'Księgi', 'Gwiazda', 'Alei', 'Gwiazd', 'Literatury', 'Bibliotece', 'Nagroda', 'Kongresu', 'Kobiet', 'Nagroda', 'działalność', 'dziedzinie', 'kultury', 'Nagroda', 'książkę', 'Flights', 'obywatelka', 'Nagroda', 'książki', 'język', 'Księgi', 'Nagroda', 'dziedzinie', 'literatury', 'wyobraźnię', 'pasją', 'przekraczanie', 'granic', 'formę', 'życia', 'Uchwała', 'Sejmu', 'okazji', 'otrzymania', 'Nagrody', 'Uchwała', 'Rady', 'rok', 'Rokiem', 'mieście', 'Ruda', 'Paszport', 'Polityki', 'nagroda', 'Kreator', 'Kultury', 'obywatel', 'miasta', 'Nagroda', 'storia', 'Obywatel', 'tytuł', 'Doktor', 'Uniwersytetu', 'Odznaczenia', 'Medal', 'Zasłużony', 'Kulturze', 'Odznaka', 'Złota', 'Województwa', 'Odznaka', 'Powiatu', 'Medal', 'Senatu', 'stycznia', 'pisarka', 'eseistka', 'poetka', 'autorka', 'scenariuszy', 'laureatka', 'Nagrody', 'dziedzinie', 'literatury', 'rok', 'laureatka', 'powieść', 'Flights', 'laureatka', 'Nagrody', 'powieści', 'Księgi', 'Życiorys', 'Córka', 'nauczycieli', 'siostrę', 'rodzicami', 'Liceum', 'absolwentką', 'Wydziału', 'Psychologii', 'Uniwersytetu', 'czasie', 'studiów', 'wolontariuszka', 'osobami', 'problemami', 'pracami', 'wpływ', 'twórczość', 'studiach', 'psychoterapeutka', 'poradni', 'zdrowia', 'małżeństwa', 'wydawcą', 'syna', 'mężem', 'wegetarianką', 'dom', 'Twórczość', 'łamach', 'pisma', 'pseudonimem', 'opowiadania', 'powieściopisarka', 'Podróżą', 'ludzi', 'Księgi', 'Książka', 'nagrodę', 'Towarzystwa', 'Wydawców', 'Książek', 'latach', 'współpracowniczką', 'czasopisma', 'Charaktery', 'eseje', 'powieść', 'Książka', 'dojrzewaniu', 'dziewczynki', 'zdolności', 'sukcesem', 'powieść', 'czasy', 'Rok', 'zbiór', 'opowiadań', 'Szafa', 'pisarka', 'powieść', 'Dom', 'dom', 'historie', 'Książka', 'opowieści', 'babce', 'matce', 'wnuczce', 'czasie', 'przestrzeni', 'twórczynią', 'opowiadania', 'Szopka', 'opis', 'szopki', 'klasztoru', 'redemptorystów', 'Bardzie', 'połowie', 'października', 'powieść', 'lata', 'większość', 'notatek', 'czasie', 'podróży', 'książka', 'podróży', 'opisów', 'zabytków', 'miejsc', 'dziennik', 'podróży', 'reportaż', 'sens', 'wstępie', 'pisanie', 'powieści', 'dojrzałość', 'opowiadaniem', 'bajek', 'dzieci', 'językiem', 'snu', 'jawy', 'rankingu', 'tygodnika', 'pisarzy', 'miejsce', 'asystentką', 'poetka', 'członkinią', 'Stowarzyszenia', 'Pisarzy', 'sierpnia', 'roku', 'Działalność', 'współorganizatorką', 'Festiwalu', 'Opowiadania', 'autorzy', 'form', 'zagranicy', 'utwory', 'warsztaty', 'Studium', 'Uniwersytecie', 'zajęcia', 'pisarstwa', 'Uniwersytecie', 'Partią', 'członkinią', 'redakcji', 'Krytyki', 'okolicach', 'Festiwal', 'Góry', 'Literatury', 'współudziale', 'Stowarzyszenia', 'miasta', 'gminy', 'Ruda', 'programie', 'festiwalu', 'akcje', 'debaty', 'koncerty', 'panele', 'pokazy', 'spotkania', 'Spotkania', 'Poezją', 'warsztaty', 'wystawy', 'grudnia', 'powołanie', 'fundacji', 'siedzibą', 'willi', 'cele', 'wspieranie', 'promocję', 'kultury', 'pisarzy', 'działanie', 'rzecz', 'praw', 'człowieka', 'przeciwdziałanie', 'dyskryminacji', 'ograniczaniu', 'swobód', 'ochronę', 'środowiska', 'walkę', 'prawa', 'zwierząt', 'Pisarka', 'fundusz', 'nagrody', 'Fundacja', 'przestrzenią', 'rozmowy', 'możliwościach', 'literatury', 'diagnozowaniu', 'świata', 'opisywaniu', 'rzeczywistości', 'nastroje', 'rady', 'szef', 'Domu', 'Literatury', 'Poglądy', 'odbiór', 'feministką', 'działania', 'rzecz', 'ochrony', 'środowiska', 'praw', 'zwierząt', 'równouprawnienia', 'społeczeństwa', 'członkinią', 'Rady', 'Fundacji', 'paradach', 'równości', 'Kościoła', 'przemowie', 'koncepcją', 'pansofii', 'wiedzy', 'działalność', 'poglądy', 'twórczość', 'obiektami', 'krytyki', 'strony', 'mediów', 'działaczy', 'Prawa', 'Sprawiedliwości', 'Reduty', 'Imienia', 'Tłumacze', 'Instytutu', 'Książki', 'października', 'tłumaczenia', 'książek', 'Olgi', 'koniec', 'książki', 'języków', 'świecie', 'angielski', 'hindi', 'Adaptacje', 'Prawiek', 'czasy', 'Teatr', 'reżyseria', 'adaptacja', 'Teatr', 'reżyseria', 'Ekranizacje', 'spektakl', 'teatru', 'telewizji', 'podstawie', 'powieści', 'tytułem', 'roli', 'Prawiek', 'czasy', 'spektakl', 'teatru', 'telewizji', 'podstawie', 'powieści', 'tytułem', 'rolach', 'Numery', 'spektakl', 'teatru', 'telewizji', 'podstawie', 'opowiadania', 'Numery', 'tomu', 'Szafa', 'roli', 'Miss', 'Skarb', 'spektakl', 'teatru', 'telewizji', 'motywach', 'fragmentów', 'powieści', 'Dom', 'dom', 'roli', 'film', 'podstawie', 'opowiadania', 'tytułem', 'tomu', 'bębenkach', 'Miłości', 'spektakl', 'teatru', 'telewizji', 'motywach', 'opowiadań', 'tomu', 'bębenkach', 'film', 'podstawie', 'opowiadania', 'tomu', 'bębenkach', 'Zniknięcie', 'film', 'podstawie', 'wątków', 'powieści', 'Glicynia', 'film', 'podstawie', 'powieści', 'pług', 'kości', 'Noc', 'Noc', 'Nagrody', 'Nagroda', 'Towarzystwa', 'Wydawców', 'Książek', 'Podróż', 'ludzi', 'Księgi', 'Paszport', 'Polityki', 'literatura', 'Nagroda', 'Czytelników', 'czasy', 'Nagroda', 'Fundacji', 'Nagroda', 'Czytelników', 'Dom', 'dom', 'Nagroda', 'Nagroda', 'Czytelników', 'książkę', 'bębenkach', 'Obywatelka', 'Miasta', 'Gminy', 'Nagroda', 'miesięcznika', 'powieść', 'dzieła', 'Nagroda', 'powieść', 'Nagroda', 'Czytelników', 'powieść', 'Nagroda', 'nagroda', 'władze', 'miast', 'obywatelka', 'Nagrody', 'pług', 'kości', 'Nagroda', 'pisarzom', 'Nagroda', 'Sejmiku', 'Województwa', 'Nagroda', 'Księgi', 'Nagroda', 'Czytelników', 'Księgi', 'płytą', 'brązu', 'Alei', 'Pisarzy', 'Galeria', 'Książki', 'Nagroda', 'Mostu', 'miast', 'Miasta', 'wyróżnienie', 'Rady', 'Nagroda', 'Samorządu', 'Księgi', 'Gwiazda', 'Alei', 'Gwiazd', 'Literatury', 'Bibliotece', 'Nagroda', 'Kongresu', 'Kobiet', 'Nagroda', 'działalność', 'dziedzinie', 'kultury', 'Nagroda', 'książkę', 'Flights', 'obywatelka', 'Nagroda', 'książki', 'język', 'Księgi', 'Nagroda', 'dziedzinie', 'literatury', 'wyobraźnię', 'pasją', 'przekraczanie', 'granic', 'formę', 'życia', 'Uchwała', 'Sejmu', 'okazji', 'otrzymania', 'Nagrody', 'Uchwała', 'Rady', 'rok', 'Rokiem', 'mieście', 'Ruda', 'Paszport', 'Polityki', 'nagroda', 'Kreator', 'Kultury', 'obywatel', 'miasta', 'Nagroda', 'storia', 'Obywatel', 'tytuł', 'Doktor', 'Uniwersytetu', 'Odznaczenia', 'Medal', 'Zasłużony', 'Kulturze', 'Odznaka', 'Złota', 'Województwa', 'Odznaka', 'Powiatu', 'Medal', 'Senatu']\n"
          ]
        }
      ]
    },
    {
      "cell_type": "code",
      "source": [
        "print(przymiotniki)"
      ],
      "metadata": {
        "colab": {
          "base_uri": "https://localhost:8080/"
        },
        "id": "kVb4huCoxDu_",
        "outputId": "c9972d47-0452-4b65-a802-6f24a6884167"
      },
      "execution_count": 44,
      "outputs": [
        {
          "output_type": "stream",
          "name": "stdout",
          "text": [
            "['29', '1962', 'polska', '2018', 'dwukrotna', 'Literackiej', 'Warszawskiego', 'psychicznymi', 'psychicznego', 'pierwszego', 'zawartego', '1985', 'obecnym', '1979', 'pierwsze', '1993', 'wydaną', 'Polskiego', 'stałą', 'dlań', '1995', 'druga', 'parapsychiczne', 'Dużym', 'wydana', '1996', 'inne', '1997', 'zatytułowany', '1998', 'dzienny', 'nocny', '2004', 'Ostatnie', 'oddzielnych', 'ukazanych', 'niezależnych', 'zawierającego', 'ruchomej', 'pierwszej', '2007', 'przeniesionym', 'samemu', 'pogranicza', 'obejmującym', 'zarabiających', '2019', '2019', 'ukraińska', 'Polskich', '2020', 'krótkich', 'literackich', 'prozatorskie', 'Literacko', 'Artystycznym', 'Jagiellońskim', '2008', 'twórczego', 'Opolskim', 'Zielonych', 'Politycznej', '2015', 'Nowej', 'Kulturalnego', 'Nowa', 'edukacyjne', 'Noworudzkie', 'filmowe', 'kulinarne', 'literackie', '2', '2019', 'Krzyckiej', 'polskiej', 'obywatelskich', 'założycielski', 'międzynarodowej', 'ksenofobiczne', 'nacjonalistyczne', 'powołani', 'Wrocławskiego', 'obywatelskiego', 'katolickiego', 'omniscjencji', 'pełnej', 'prawicowych', 'konserwatywnych', 'Dobrego', '2019', 'Następnych', '2020', 'Południowej', 'używane', 'arabski', 'chiński', 'hiszpański', 'japoński', 'niemiecki', 'perski', 'portugalski', 'rosyjski', 'inne', 'Powszechny', 'samym', 'inne', 'samym', 'głównych', 'dzienny', 'nocny', 'fabularny', 'samym', 'fabularny', 'krótkometrażowy', 'fabularny', 'krótkometrażowy', 'krótkometrażowy', 'fabularny', 'umarłych', 'v', 'Polskiego', '1996', '1997', 'Literacka', 'inne', 'Kościelskich', 'Literacka', 'dzienny', 'nocny', '1999', 'Literacka', 'Literacka', '2005', '12', '.', 'Honorowa', 'wcześniejsze', 'Literacka', '2008', 'Literacka', 'polsko', 'niemiecka', 'przyznawana', 'partnerskich', '2009', 'Honorowa', 'Nowej', '2010', 'nominowana', 'Literackiej', 'umarłych', 'międzynarodowa', 'przyznawana', 'Środkowej', '2014', 'Dolnośląska', 'Kulturalna', 'Dolnośląskiego', 'Literacka', 'Jakubowe', 'Literacka', 'Jakubowe', '2015', 'Uhonorowana', 'Międzynarodowa', 'Zasłużona', 'Miejskiej', '2017', 'Międzynarodowa', 'Literacka', 'Jakubowe', '2017', '27', 'Miejskiej', 'Publicznej', 'Mazowieckim', '2017', 'IX', '2018', 'społeczną', 'Dolnym', '2018', '2019', 'Honorowa', '2019', 'najlepszej', 'przełożonej', 'francuski', 'Jakubowe', '2019', '10', '.', '10', '2018', 'narracyjną', 'encyklopedyczną', '2019', '12', '.', '20', '2019', '12', '.', 'Miejskiej', 'Nowej', 'ustanawiająca', '2020', 'Nowa', '2020', '01', 'specjalna', '2020', 'Honorowy', 'stołecznego', '2020', '.', 'romanzo', '2020', 'Honorowy', 'Dolnego', 'Honorario', 'nieprzyjęty', '2020', '12', '.', '16', 'Warszawskiego', 'Srebrny', 'Honorowa', 'Zasłużony', 'Dolnośląskiego', 'Honorowa', 'Kłodzkiego', '29', '1962', 'polska', '2018', 'dwukrotna', 'Literackiej', 'Warszawskiego', 'psychicznymi', 'psychicznego', 'pierwszego', 'zawartego', '1985', 'obecnym', '1979', 'pierwsze', '1993', 'wydaną', 'Polskiego', 'stałą', 'dlań', '1995', 'druga', 'parapsychiczne', 'Dużym', 'wydana', '1996', 'inne', '1997', 'zatytułowany', '1998', 'dzienny', 'nocny', '2004', 'Ostatnie', 'oddzielnych', 'ukazanych', 'niezależnych', 'zawierającego', 'ruchomej', 'pierwszej', '2007', 'przeniesionym', 'samemu', 'pogranicza', 'obejmującym', 'zarabiających', '2019', '2019', 'ukraińska', 'Polskich', '2020', 'krótkich', 'literackich', 'prozatorskie', 'Literacko', 'Artystycznym', 'Jagiellońskim', '2008', 'twórczego', 'Opolskim', 'Zielonych', 'Politycznej', '2015', 'Nowej', 'Kulturalnego', 'Nowa', 'edukacyjne', 'Noworudzkie', 'filmowe', 'kulinarne', 'literackie', '2', '2019', 'Krzyckiej', 'polskiej', 'obywatelskich', 'założycielski', 'międzynarodowej', 'ksenofobiczne', 'nacjonalistyczne', 'powołani', 'Wrocławskiego', 'obywatelskiego', 'katolickiego', 'omniscjencji', 'pełnej', 'prawicowych', 'konserwatywnych', 'Dobrego', '2019', 'Następnych', '2020', 'Południowej', 'używane', 'arabski', 'chiński', 'hiszpański', 'japoński', 'niemiecki', 'perski', 'portugalski', 'rosyjski', 'inne', 'Powszechny', 'samym', 'inne', 'samym', 'głównych', 'dzienny', 'nocny', 'fabularny', 'samym', 'fabularny', 'krótkometrażowy', 'fabularny', 'krótkometrażowy', 'krótkometrażowy', 'fabularny', 'umarłych', 'v', 'Polskiego', '1996', '1997', 'Literacka', 'inne', 'Kościelskich', 'Literacka', 'dzienny', 'nocny', '1999', 'Literacka', 'Literacka', '2005', '12', '.', 'Honorowa', 'wcześniejsze', 'Literacka', '2008', 'Literacka', 'polsko', 'niemiecka', 'przyznawana', 'partnerskich', '2009', 'Honorowa', 'Nowej', '2010', 'nominowana', 'Literackiej', 'umarłych', 'międzynarodowa', 'przyznawana', 'Środkowej', '2014', 'Dolnośląska', 'Kulturalna', 'Dolnośląskiego', 'Literacka', 'Jakubowe', 'Literacka', 'Jakubowe', '2015', 'Uhonorowana', 'Międzynarodowa', 'Zasłużona', 'Miejskiej', '2017', 'Międzynarodowa', 'Literacka', 'Jakubowe', '2017', '27', 'Miejskiej', 'Publicznej', 'Mazowieckim', '2017', 'IX', '2018', 'społeczną', 'Dolnym', '2018', '2019', 'Honorowa', '2019', 'najlepszej', 'przełożonej', 'francuski', 'Jakubowe', '2019', '10', '.', '10', '2018', 'narracyjną', 'encyklopedyczną', '2019', '12', '.', '20', '2019', '12', '.', 'Miejskiej', 'Nowej', 'ustanawiająca', '2020', 'Nowa', '2020', '01', 'specjalna', '2020', 'Honorowy', 'stołecznego', '2020', '.', 'romanzo', '2020', 'Honorowy', 'Dolnego', 'Honorario', 'nieprzyjęty', '2020', '12', '.', '16', 'Warszawskiego', 'Srebrny', 'Honorowa', 'Zasłużony', 'Dolnośląskiego', 'Honorowa', 'Kłodzkiego']\n"
          ]
        }
      ]
    },
    {
      "cell_type": "code",
      "source": [
        "ilosc_rzeczownikow = len(rzeczowniki)\n",
        "ilosc_przymiotnikow = len(przymiotniki)"
      ],
      "metadata": {
        "id": "VhmPoXiwxRuL"
      },
      "execution_count": 45,
      "outputs": []
    },
    {
      "cell_type": "code",
      "source": [
        "print(\"Ilość rzeczowników:\", ilosc_rzeczownikow)\n",
        "print(\"Ilość przymiotników:\", ilosc_przymiotnikow)"
      ],
      "metadata": {
        "colab": {
          "base_uri": "https://localhost:8080/"
        },
        "id": "8uQ2m6yqxYbP",
        "outputId": "ae9208e0-066d-4c1b-9135-4e4d583aa0ea"
      },
      "execution_count": 46,
      "outputs": [
        {
          "output_type": "stream",
          "name": "stdout",
          "text": [
            "Ilość rzeczowników: 944\n",
            "Ilość przymiotników: 466\n"
          ]
        }
      ]
    },
    {
      "cell_type": "code",
      "source": [
        "osoby = []\n",
        "daty = []\n",
        "miejsca = []\n",
        "organizacje = []"
      ],
      "metadata": {
        "id": "HCrFsjYx1-wG"
      },
      "execution_count": 50,
      "outputs": []
    },
    {
      "cell_type": "code",
      "source": [
        "for ent in doc.ents:\n",
        "  print (ent.text, ent.label_)"
      ],
      "metadata": {
        "colab": {
          "base_uri": "https://localhost:8080/"
        },
        "id": "mQlNtWLYyygD",
        "outputId": "da1e380c-5acb-4fee-c11e-cc5976c9d9ce"
      },
      "execution_count": 54,
      "outputs": [
        {
          "output_type": "stream",
          "name": "stdout",
          "text": [
            "Olga Nawoja Tokarczuk persName\n",
            "29 stycznia 1962 date\n",
            "Sulechowie placeName\n",
            "polska placeName\n",
            "Nobla persName\n",
            "rok 2018 date\n",
            "The Man Booker International Prize orgName\n",
            "Bieguni geogName\n",
            "Bieguni geogName\n",
            "2008 date\n",
            "Jakubowe persName\n",
            "2015 date\n",
            "Wandy persName\n",
            "Józefa Tokarczuków persName\n",
            "Sulechowie placeName\n",
            "Klenicy geogName\n",
            "Kietrza placeName\n",
            "Liceum Ogólnokształcące im. orgName\n",
            "Kamila Norwida persName\n",
            "Wydziału Psychologii Uniwersytetu Warszawskiego orgName\n",
            "Carla Junga persName\n",
            "Wałbrzychu placeName\n",
            "1985 date\n",
            "Romanem Fingasem persName\n",
            "Zbigniewa persName\n",
            "1986 date\n",
            "Grzegorz Zygadło persName\n",
            "Wrocławiu placeName\n",
            "Krajanowie placeName\n",
            "1979 date\n",
            "Natasza Borodin persName\n",
            "1993 date\n",
            "Polskiego Towarzystwa Wydawców Książek orgName\n",
            "„Mandragorze” geogName\n",
            "latach 1997 date\n",
            "2000 date\n",
            "1995 date\n",
            "E. persName\n",
            "E. persName\n",
            "Tokarczuk persName\n",
            "1996 date\n",
            "Prawiek persName\n",
            "Rok 1997 date\n",
            "1998 date\n",
            "2004 date\n",
            "Bardo persName\n",
            "Bardzie placeName\n",
            "października 2007 date\n",
            "Bieguni geogName\n",
            "Wprost orgName\n",
            "Polsce placeName\n",
            "2019 date\n",
            "2019 date\n",
            "Olgi Tokarczuk persName\n",
            "ukraińska placeName\n",
            "Iryna Wikyrczak persName\n",
            "Stowarzyszenia Pisarzy Polskich orgName\n",
            "sierpnia 2020 roku date\n",
            "Polski placeName\n",
            "Studium Literacko-Artystycznym orgName\n",
            "Uniwersytecie Jagiellońskim w Krakowie orgName\n",
            "2008 date\n",
            "Uniwersytecie Opolskim orgName\n",
            "Partią Zielonych orgName\n",
            "„Krytyki Politycznej” orgName\n",
            "2015 date\n",
            "Nowej Rudzie placeName\n",
            "Festiwal Góry Literatury geogName\n",
            "Karola Maliszewskiego persName\n",
            "Stowarzyszenia Kulturalnego „Góry Babel orgName\n",
            "gminy Nowa Ruda placeName\n",
            "Noworudzkie persName\n",
            "2 grudnia 2019 date\n",
            "Wrocławiu placeName\n",
            "Tymoteusza Karpowicza persName\n",
            "ul. geogName\n",
            "Krzyckiej geogName\n",
            "polskiej placeName\n",
            "Nobla persName\n",
            "Agnieszka Holland persName\n",
            "Irek Grin persName\n",
            "Wrocławskiego Domu Literatury orgName\n",
            "Rady Fundacji im. orgName\n",
            "Kościoła katolickiego orgName\n",
            "Jana Amosa Komenskiego persName\n",
            "Prawa i Sprawiedliwości orgName\n",
            "Reduty Dobrego Imienia orgName\n",
            "Instytutu Książki orgName\n",
            "października 2019 date\n",
            "Olgi Tokarczuk persName\n",
            "2019 date\n",
            "2020 date\n",
            "Bułgarii placeName\n",
            "Egipcie placeName\n",
            "Izraelu placeName\n",
            "Korei Południowej placeName\n",
            "Serbii placeName\n",
            "Ukrainie placeName\n",
            "angielski placeName\n",
            "arabski placeName\n",
            "chiński placeName\n",
            "hindi placeName\n",
            "hiszpański placeName\n",
            "japoński placeName\n",
            "niemiecki placeName\n",
            "perski placeName\n",
            "portugalski placeName\n",
            "rosyjski placeName\n",
            "1997 date\n",
            "Teatr Wierszalin orgName\n",
            "Supraślu placeName\n",
            "Sebastian Majewski persName\n",
            "Bieguni geogName\n",
            "2021 date\n",
            "Teatr Powszechny w Warszawie orgName\n",
            "Michał Zadara persName\n",
            "E. persName\n",
            "E. persName\n",
            "1998 date\n",
            "Maria Zmarz-Koczanowicz persName\n",
            "Erny Eltzner persName\n",
            "Agata Buzek persName\n",
            "1998 date\n",
            "Piotr Tomaszuk persName\n",
            "Joanna Kasperek persName\n",
            "Jan Peszek persName\n",
            "Agnieszka Lipiec-Wróblewska persName\n",
            "L. persName\n",
            "Ewa Dałkowska persName\n",
            "Piotr Mularuk persName\n",
            "Krystyny Popłoch persName\n",
            "Maja Ostaszewska persName\n",
            "Żurek persName\n",
            "2003 date\n",
            "Ryszard Brylski persName\n",
            "2004 date\n",
            "Filip Zylber persName\n",
            "2007 date\n",
            "Ariadna persName\n",
            "Naksos persName\n",
            "Agnieszka Smoczyńska persName\n",
            "2011 date\n",
            "Bieguni persName\n",
            "Adam Uryniak persName\n",
            "2016 date\n",
            "Izabela Kiszczak persName\n",
            "2017 date\n",
            "Agnieszka Holland persName\n",
            "Kasia Adamik persName\n",
            "Mariandzie geogName\n",
            "2019 date\n",
            "Matěj Chlupáček persName\n",
            "Maja Hamplová persName\n",
            "Martin Hradecký persName\n",
            "1993 date\n",
            "Polskiego Towarzystwa Wydawców Książek orgName\n",
            "1996 date\n",
            "Fundacji im. orgName\n",
            "1999 date\n",
            "1999 date\n",
            "2002 date\n",
            "2005 date\n",
            "12. date\n",
            "28 time\n",
            "Gminy Bardo placeName\n",
            "2007 date\n",
            "Odra orgName\n",
            "Bieguni geogName\n",
            "Bieguni geogName\n",
            "2008 date\n",
            "10. date\n",
            "05 time\n",
            "Bieguni geogName\n",
            "2008 date\n",
            "Samuela B. persName\n",
            "Lindego persName\n",
            "polsko placeName\n",
            "niemiecka placeName\n",
            "Torunia placeName\n",
            "Getyngi placeName\n",
            "2009 date\n",
            "Nowej Rudy placeName\n",
            "2010 date\n",
            "2013 date\n",
            "Vilenica placeName\n",
            "Europy Środkowej geogName\n",
            "Jakubowe persName\n",
            "2015 date\n",
            "05. date\n",
            "22 time\n",
            "Alei Pisarzy geogName\n",
            "MBP im. orgName\n",
            "Górnickiego persName\n",
            "Galeria Książki geogName\n",
            "Oświęcimiu placeName\n",
            "Görlitz placeName\n",
            "Zgorzelec placeName\n",
            "2016 date\n",
            "Wałbrzycha placeName\n",
            "Rady Miejskiej Wałbrzycha orgName\n",
            "2017 date\n",
            "01 date\n",
            "2017. date\n",
            "05. date\n",
            "27 time\n",
            "Alei Gwiazd Literatury geogName\n",
            "Miejskiej Bibliotece Publicznej w Mińsku Mazowieckim orgName\n",
            "2017 date\n",
            "09. date\n",
            "10 time\n",
            "Poznań placeName\n",
            "2018. date\n",
            "04. date\n",
            "21 time\n",
            "Dolnym Śląsku geogName\n",
            "2018. date\n",
            "05. date\n",
            "22 time\n",
            "Bieguni geogName\n",
            "Jennifer Croft persName\n",
            "2019. date\n",
            "06. date\n",
            "24 time\n",
            "Wrocławia placeName\n",
            "2019 date\n",
            "07. date\n",
            "08 time\n",
            "Laure-Bataillon persName\n",
            "francuski placeName\n",
            "Jakubowe persName\n",
            "2019 date\n",
            "10. time\n",
            "10 time\n",
            "Nobla persName\n",
            "2018 date\n",
            "2019 date\n",
            "12. time\n",
            "20 time\n",
            "Sejmu RP orgName\n",
            "O. persName\n",
            "Tokarczuk persName\n",
            "Nobla persName\n",
            "2019 date\n",
            "12. time\n",
            "30 time\n",
            "Rady Miejskiej Nowej Rudy orgName\n",
            "rok 2020 date\n",
            "Olgi Tokarczuk persName\n",
            "Nowa Ruda placeName\n",
            "2020. date\n",
            "01. date\n",
            "14 time\n",
            "2020. date\n",
            "06. date\n",
            "18 time\n",
            "Warszawy placeName\n",
            "2020 date\n",
            "09. date\n",
            "20 time\n",
            "2020. date\n",
            "09. date\n",
            "24 time\n",
            "2020 date\n",
            "12. time\n",
            "16 time\n",
            "Uniwersytetu Warszawskiego orgName\n",
            "2010 date\n",
            "Województwa Dolnośląskiego placeName\n",
            "2018 date\n",
            "2019 date\n",
            "Senatu RP orgName\n",
            "2019 date\n"
          ]
        }
      ]
    },
    {
      "cell_type": "code",
      "source": [
        "for ent in doc.ents:\n",
        "    if ent.label_ == \"persName\":\n",
        "        osoby.append(ent.text)\n",
        "    elif ent.label_ == \"date\":\n",
        "        daty.append(ent.text)\n",
        "    elif ent.label_ == \"placeName\":\n",
        "        miejsca.append(ent.text)\n",
        "    elif ent.label_ == \"orgName\":\n",
        "        organizacje.append(ent.text)"
      ],
      "metadata": {
        "id": "CBh-yPTs1Scy"
      },
      "execution_count": 55,
      "outputs": []
    },
    {
      "cell_type": "code",
      "source": [
        "print(\"Osoby:\", osoby)\n",
        "print(\"Daty:\", daty)\n",
        "print(\"Miejsca:\", miejsca)\n",
        "print(\"Organizacje:\", organizacje)"
      ],
      "metadata": {
        "colab": {
          "base_uri": "https://localhost:8080/"
        },
        "id": "OdEybTMA1aw1",
        "outputId": "9b760753-5257-4ede-eb84-5d9a8ccf71c8"
      },
      "execution_count": 56,
      "outputs": [
        {
          "output_type": "stream",
          "name": "stdout",
          "text": [
            "Osoby: ['Olga Nawoja Tokarczuk', 'Nobla', 'Jakubowe', 'Wandy', 'Józefa Tokarczuków', 'Kamila Norwida', 'Carla Junga', 'Romanem Fingasem', 'Zbigniewa', 'Grzegorz Zygadło', 'Natasza Borodin', 'E.', 'E.', 'Tokarczuk', 'Prawiek', 'Bardo', 'Olgi Tokarczuk', 'Iryna Wikyrczak', 'Karola Maliszewskiego', 'Noworudzkie', 'Tymoteusza Karpowicza', 'Nobla', 'Agnieszka Holland', 'Irek Grin', 'Jana Amosa Komenskiego', 'Olgi Tokarczuk', 'Sebastian Majewski', 'Michał Zadara', 'E.', 'E.', 'Maria Zmarz-Koczanowicz', 'Erny Eltzner', 'Agata Buzek', 'Piotr Tomaszuk', 'Joanna Kasperek', 'Jan Peszek', 'Agnieszka Lipiec-Wróblewska', 'L.', 'Ewa Dałkowska', 'Piotr Mularuk', 'Krystyny Popłoch', 'Maja Ostaszewska', 'Żurek', 'Ryszard Brylski', 'Filip Zylber', 'Ariadna', 'Naksos', 'Agnieszka Smoczyńska', 'Bieguni', 'Adam Uryniak', 'Izabela Kiszczak', 'Agnieszka Holland', 'Kasia Adamik', 'Matěj Chlupáček', 'Maja Hamplová', 'Martin Hradecký', 'Samuela B.', 'Lindego', 'Jakubowe', 'Górnickiego', 'Jennifer Croft', 'Laure-Bataillon', 'Jakubowe', 'Nobla', 'O.', 'Tokarczuk', 'Nobla', 'Olgi Tokarczuk']\n",
            "Daty: ['29 stycznia 1962', 'rok 2018', '2008', '2015', '1985', '1986', '1979', '1993', 'latach 1997', '2000', '1995', '1996', 'Rok 1997', '1998', '2004', 'października 2007', '2019', '2019', 'sierpnia 2020 roku', '2008', '2015', '2 grudnia 2019', 'października 2019', '2019', '2020', '1997', '2021', '1998', '1998', '2003', '2004', '2007', '2011', '2016', '2017', '2019', '1993', '1996', '1999', '1999', '2002', '2005', '12.', '2007', '2008', '10.', '2008', '2009', '2010', '2013', '2015', '05.', '2016', '2017', '01', '2017.', '05.', '2017', '09.', '2018.', '04.', '2018.', '05.', '2019.', '06.', '2019', '07.', '2019', '2018', '2019', '2019', 'rok 2020', '2020.', '01.', '2020.', '06.', '2020', '09.', '2020.', '09.', '2020', '2010', '2018', '2019', '2019']\n",
            "Miejsca: ['Sulechowie', 'polska', 'Sulechowie', 'Kietrza', 'Wałbrzychu', 'Wrocławiu', 'Krajanowie', 'Bardzie', 'Polsce', 'ukraińska', 'Polski', 'Nowej Rudzie', 'gminy Nowa Ruda', 'Wrocławiu', 'polskiej', 'Bułgarii', 'Egipcie', 'Izraelu', 'Korei Południowej', 'Serbii', 'Ukrainie', 'angielski', 'arabski', 'chiński', 'hindi', 'hiszpański', 'japoński', 'niemiecki', 'perski', 'portugalski', 'rosyjski', 'Supraślu', 'Gminy Bardo', 'polsko', 'niemiecka', 'Torunia', 'Getyngi', 'Nowej Rudy', 'Vilenica', 'Oświęcimiu', 'Görlitz', 'Zgorzelec', 'Wałbrzycha', 'Poznań', 'Wrocławia', 'francuski', 'Nowa Ruda', 'Warszawy', 'Województwa Dolnośląskiego']\n",
            "Organizacje: ['The Man Booker International Prize', 'Liceum Ogólnokształcące im.', 'Wydziału Psychologii Uniwersytetu Warszawskiego', 'Polskiego Towarzystwa Wydawców Książek', 'Wprost', 'Stowarzyszenia Pisarzy Polskich', 'Studium Literacko-Artystycznym', 'Uniwersytecie Jagiellońskim w Krakowie', 'Uniwersytecie Opolskim', 'Partią Zielonych', '„Krytyki Politycznej”', 'Stowarzyszenia Kulturalnego „Góry Babel', 'Wrocławskiego Domu Literatury', 'Rady Fundacji im.', 'Kościoła katolickiego', 'Prawa i Sprawiedliwości', 'Reduty Dobrego Imienia', 'Instytutu Książki', 'Teatr Wierszalin', 'Teatr Powszechny w Warszawie', 'Polskiego Towarzystwa Wydawców Książek', 'Fundacji im.', 'Odra', 'MBP im.', 'Rady Miejskiej Wałbrzycha', 'Miejskiej Bibliotece Publicznej w Mińsku Mazowieckim', 'Sejmu RP', 'Rady Miejskiej Nowej Rudy', 'Uniwersytetu Warszawskiego', 'Senatu RP']\n"
          ]
        }
      ]
    },
    {
      "cell_type": "code",
      "source": [
        "ilosc_osob = len(osoby)\n",
        "ilosc_dat = len(daty)\n",
        "ilosc_miejsc = len(miejsca)\n",
        "ilosc_organizacji = len(organizacje)"
      ],
      "metadata": {
        "id": "aDi-xJQA2Q_w"
      },
      "execution_count": 57,
      "outputs": []
    },
    {
      "cell_type": "code",
      "source": [
        "print(\"Ilość osób:\", ilosc_osob)\n",
        "print(\"Ilość dat:\", ilosc_dat)\n",
        "print(\"Ilość miejsc:\", ilosc_miejsc)\n",
        "print(\"Ilość organizacji:\", ilosc_organizacji)"
      ],
      "metadata": {
        "colab": {
          "base_uri": "https://localhost:8080/"
        },
        "id": "R-KSmMvg2mxF",
        "outputId": "93ebabf3-4ac9-42a5-d028-1e7efb04fb12"
      },
      "execution_count": 58,
      "outputs": [
        {
          "output_type": "stream",
          "name": "stdout",
          "text": [
            "Ilość osób: 68\n",
            "Ilość dat: 85\n",
            "Ilość miejsc: 49\n",
            "Ilość organizacji: 30\n"
          ]
        }
      ]
    }
  ]
}