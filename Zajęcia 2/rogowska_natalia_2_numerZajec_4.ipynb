{
  "nbformat": 4,
  "nbformat_minor": 0,
  "metadata": {
    "colab": {
      "provenance": []
    },
    "kernelspec": {
      "name": "python3",
      "display_name": "Python 3"
    },
    "language_info": {
      "name": "python"
    }
  },
  "cells": [
    {
      "cell_type": "markdown",
      "source": [
        "Zadanie 1"
      ],
      "metadata": {
        "id": "J0C-6993Glp7"
      }
    },
    {
      "cell_type": "code",
      "execution_count": null,
      "metadata": {
        "id": "a25uO-5UGh97"
      },
      "outputs": [],
      "source": [
        "n = 9"
      ]
    },
    {
      "cell_type": "code",
      "source": [
        "for i in range (1, n+1):\n",
        "  for j in range (1, i+1):\n",
        "    print (j, end=\"\")\n",
        "  print()"
      ],
      "metadata": {
        "colab": {
          "base_uri": "https://localhost:8080/"
        },
        "id": "uxgG-uWzG9H8",
        "outputId": "a3150461-38e5-4cd0-eaeb-3baa56779e43"
      },
      "execution_count": null,
      "outputs": [
        {
          "output_type": "stream",
          "name": "stdout",
          "text": [
            "1\n",
            "12\n",
            "123\n",
            "1234\n",
            "12345\n",
            "123456\n",
            "1234567\n",
            "12345678\n",
            "123456789\n"
          ]
        }
      ]
    },
    {
      "cell_type": "markdown",
      "source": [
        "Zadanie 2"
      ],
      "metadata": {
        "id": "2hYZSgIeHoFN"
      }
    },
    {
      "cell_type": "code",
      "source": [
        "def rysuj_wzor():\n",
        "    for i in range(1, 6):\n",
        "        print('*' * i)\n",
        "    for i in range(4, 0, -1):\n",
        "        print('*' * i)\n",
        "\n",
        "rysuj_wzor()"
      ],
      "metadata": {
        "colab": {
          "base_uri": "https://localhost:8080/"
        },
        "id": "YozuZSZsHp46",
        "outputId": "3ee688c1-4e0b-4af0-d1a2-701f232ca276"
      },
      "execution_count": null,
      "outputs": [
        {
          "output_type": "stream",
          "name": "stdout",
          "text": [
            "*\n",
            "**\n",
            "***\n",
            "****\n",
            "*****\n",
            "****\n",
            "***\n",
            "**\n",
            "*\n"
          ]
        }
      ]
    },
    {
      "cell_type": "markdown",
      "source": [
        "Zadanie 3"
      ],
      "metadata": {
        "id": "BSHWP6VMKPBz"
      }
    },
    {
      "cell_type": "code",
      "source": [
        "lista_liczb = [6, 2, 3, 7, 1, 12, 56, 99]"
      ],
      "metadata": {
        "id": "BGJbJnsHKQKJ"
      },
      "execution_count": 4,
      "outputs": []
    },
    {
      "cell_type": "code",
      "source": [
        "lista_liczb.sort(reverse = False)"
      ],
      "metadata": {
        "id": "zWhUxu3_K0rA"
      },
      "execution_count": 5,
      "outputs": []
    },
    {
      "cell_type": "code",
      "source": [
        "print(lista_liczb)"
      ],
      "metadata": {
        "colab": {
          "base_uri": "https://localhost:8080/"
        },
        "id": "WyM5Pgb-Lbds",
        "outputId": "7c615e1d-08a5-42c8-8449-ae96d49e0ba0"
      },
      "execution_count": 6,
      "outputs": [
        {
          "output_type": "stream",
          "name": "stdout",
          "text": [
            "[1, 2, 3, 6, 7, 12, 56, 99]\n"
          ]
        }
      ]
    },
    {
      "cell_type": "code",
      "source": [
        "lista_liczb[0]"
      ],
      "metadata": {
        "colab": {
          "base_uri": "https://localhost:8080/"
        },
        "id": "5MNrwugjLo5P",
        "outputId": "2664427b-3d03-415b-b641-d3ddcf3eec29"
      },
      "execution_count": 7,
      "outputs": [
        {
          "output_type": "execute_result",
          "data": {
            "text/plain": [
              "1"
            ]
          },
          "metadata": {},
          "execution_count": 7
        }
      ]
    },
    {
      "cell_type": "code",
      "source": [
        "for liczba in lista_liczb:\n",
        "  if len (str(liczba)) == 2:\n",
        "    print (liczba)"
      ],
      "metadata": {
        "colab": {
          "base_uri": "https://localhost:8080/"
        },
        "id": "0IRVfZurEGIi",
        "outputId": "0dc7f811-26ad-402f-d952-1d661dacbb64"
      },
      "execution_count": 14,
      "outputs": [
        {
          "output_type": "stream",
          "name": "stdout",
          "text": [
            "12\n",
            "56\n",
            "99\n"
          ]
        }
      ]
    }
  ]
}