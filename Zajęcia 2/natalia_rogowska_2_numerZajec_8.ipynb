{
  "nbformat": 4,
  "nbformat_minor": 0,
  "metadata": {
    "colab": {
      "provenance": []
    },
    "kernelspec": {
      "name": "python3",
      "display_name": "Python 3"
    },
    "language_info": {
      "name": "python"
    }
  },
  "cells": [
    {
      "cell_type": "code",
      "execution_count": null,
      "metadata": {
        "id": "7acWGjUWxLaE"
      },
      "outputs": [],
      "source": [
        "#Sprawdź, czy użytkownik wpisał liczbę nieparzystą lub parzystą"
      ]
    },
    {
      "cell_type": "code",
      "source": [
        "x = input(\"Podaj liczbę: \")"
      ],
      "metadata": {
        "colab": {
          "base_uri": "https://localhost:8080/"
        },
        "id": "Viu7M1EQx_Uk",
        "outputId": "488d899d-493a-4bdc-bcf5-44ea6f66b6c7"
      },
      "execution_count": null,
      "outputs": [
        {
          "name": "stdout",
          "output_type": "stream",
          "text": [
            "Podaj liczbę: 3\n"
          ]
        }
      ]
    },
    {
      "cell_type": "code",
      "source": [
        "if x.isdigit():\n",
        "  if int(x) % 2 == 0:\n",
        "    print(\"Jest parzysta\")\n",
        "  else:\n",
        "    print(\"Jest nieparzysta\")\n",
        "else:\n",
        "  print(\"Błędne dane\")"
      ],
      "metadata": {
        "colab": {
          "base_uri": "https://localhost:8080/"
        },
        "id": "EGZEkks9yEfj",
        "outputId": "74a070c9-6c2b-4f09-a931-1334aea2ed5e"
      },
      "execution_count": null,
      "outputs": [
        {
          "output_type": "stream",
          "name": "stdout",
          "text": [
            "Jest nieparzysta\n"
          ]
        }
      ]
    },
    {
      "cell_type": "code",
      "source": [
        "#Sprawdź, czy wpisana przez użytkownika litera jest samogłoską lub spółgłoską"
      ],
      "metadata": {
        "id": "LWeyTbQ2zddU"
      },
      "execution_count": null,
      "outputs": []
    },
    {
      "cell_type": "code",
      "source": [
        "samogloski = [\"a\", \"e\", \"i\"]"
      ],
      "metadata": {
        "id": "xwnDfqnn0mTa"
      },
      "execution_count": null,
      "outputs": []
    },
    {
      "cell_type": "code",
      "source": [
        "x = input(\"Podaj literę: \")"
      ],
      "metadata": {
        "colab": {
          "base_uri": "https://localhost:8080/"
        },
        "id": "ooG7rONj0Tvz",
        "outputId": "a502f707-1fad-4383-a293-b78ae40d087d"
      },
      "execution_count": null,
      "outputs": [
        {
          "name": "stdout",
          "output_type": "stream",
          "text": [
            "Podaj literę: t\n"
          ]
        }
      ]
    },
    {
      "cell_type": "code",
      "source": [
        "for samogloska in samogloski:\n",
        "  if x.lower() == samogloska:\n",
        "    print(\"To jest samogłoska\")\n",
        "  else:\n",
        "    print(\"To jest spółgłoska\")\n",
        "    break"
      ],
      "metadata": {
        "colab": {
          "base_uri": "https://localhost:8080/"
        },
        "id": "0z4xlGwU0XaD",
        "outputId": "78704c4d-5a0a-48d7-d338-19f8cde3e6b8"
      },
      "execution_count": null,
      "outputs": [
        {
          "output_type": "stream",
          "name": "stdout",
          "text": [
            "To jest spółgłoska\n"
          ]
        }
      ]
    },
    {
      "cell_type": "code",
      "source": [
        "samogloski = [\"a\", \"e\", \"i\"]\n",
        "x = input(\"Podaj literę: \")\n",
        "if x in samogloski:\n",
        "  print(\"To jest samogłoska\")"
      ],
      "metadata": {
        "colab": {
          "base_uri": "https://localhost:8080/"
        },
        "id": "gliKOZTK10IG",
        "outputId": "c1e2738c-b939-4342-d14b-c8be01633376"
      },
      "execution_count": null,
      "outputs": [
        {
          "output_type": "stream",
          "name": "stdout",
          "text": [
            "Podaj literę: e\n",
            "To jest samogłoska\n"
          ]
        }
      ]
    },
    {
      "cell_type": "code",
      "source": [
        "#Drukarka"
      ],
      "metadata": {
        "id": "1tXDoQDY3sVC"
      },
      "execution_count": null,
      "outputs": []
    },
    {
      "cell_type": "code",
      "source": [
        "def drukarka():\n",
        "  print(\"Działam\")"
      ],
      "metadata": {
        "id": "ZfR8wxna39pw"
      },
      "execution_count": null,
      "outputs": []
    },
    {
      "cell_type": "code",
      "source": [
        "drukarka()"
      ],
      "metadata": {
        "colab": {
          "base_uri": "https://localhost:8080/"
        },
        "id": "dITNaiyT4eQx",
        "outputId": "c0408e24-aee5-4782-9037-d80c4ecf1281"
      },
      "execution_count": null,
      "outputs": [
        {
          "output_type": "stream",
          "name": "stdout",
          "text": [
            "Działam\n"
          ]
        }
      ]
    },
    {
      "cell_type": "code",
      "source": [
        "def dodawanie(liczba1, liczba2):\n",
        "  print(liczba1 + liczba2)"
      ],
      "metadata": {
        "id": "Ezl8J1154goY"
      },
      "execution_count": null,
      "outputs": []
    },
    {
      "cell_type": "code",
      "source": [
        "dodawanie(23, 45)"
      ],
      "metadata": {
        "colab": {
          "base_uri": "https://localhost:8080/"
        },
        "id": "rbpRIyLv5K0m",
        "outputId": "b9c487a8-a730-4203-f71b-79656ceb0022"
      },
      "execution_count": null,
      "outputs": [
        {
          "output_type": "stream",
          "name": "stdout",
          "text": [
            "68\n"
          ]
        }
      ]
    },
    {
      "cell_type": "code",
      "source": [
        "def kalkulator (liczba1, liczba2, działanie):\n",
        "  if działanie == \"+\":\n",
        "    print (liczba1 + liczba2)"
      ],
      "metadata": {
        "id": "lMqcIHSq5QYs"
      },
      "execution_count": null,
      "outputs": []
    },
    {
      "cell_type": "code",
      "source": [
        "def dobry_kalkulator (liczba1, liczba2, działanie):\n",
        "  if działanie == \"+\":\n",
        "    return liczba1 + liczba2"
      ],
      "metadata": {
        "id": "zUZPxo3a6I66"
      },
      "execution_count": null,
      "outputs": []
    },
    {
      "cell_type": "code",
      "source": [
        "kalkulator (1, 2, \"+\")"
      ],
      "metadata": {
        "colab": {
          "base_uri": "https://localhost:8080/"
        },
        "id": "FxXNR9CY6hvO",
        "outputId": "666d2213-6597-44e3-ad35-288b3a00e0b3"
      },
      "execution_count": null,
      "outputs": [
        {
          "output_type": "stream",
          "name": "stdout",
          "text": [
            "3\n"
          ]
        }
      ]
    },
    {
      "cell_type": "code",
      "source": [
        "wynik = kalkulator (1, 2, \"+\")"
      ],
      "metadata": {
        "colab": {
          "base_uri": "https://localhost:8080/"
        },
        "id": "W0bQUvov6or4",
        "outputId": "315aea80-e450-4bce-daa6-cc8f2f3d1175"
      },
      "execution_count": null,
      "outputs": [
        {
          "output_type": "stream",
          "name": "stdout",
          "text": [
            "3\n"
          ]
        }
      ]
    },
    {
      "cell_type": "code",
      "source": [
        "brzydki_tekst = \"     j#tRo       \""
      ],
      "metadata": {
        "id": "Zox8s67I63OC"
      },
      "execution_count": null,
      "outputs": []
    },
    {
      "cell_type": "code",
      "source": [
        "def clean_text(text):\n",
        "  cleaned_text = text.replace(\"#\", \"u\").strip().lower().capitalize()\n",
        "  return cleaned_text"
      ],
      "metadata": {
        "id": "Lr9PvyHC7LVn"
      },
      "execution_count": null,
      "outputs": []
    },
    {
      "cell_type": "code",
      "source": [
        "ladny_tekst = clean_text(brzydki_tekst)\n",
        "ladny_tekst"
      ],
      "metadata": {
        "colab": {
          "base_uri": "https://localhost:8080/",
          "height": 35
        },
        "id": "WKOUWlk07DLG",
        "outputId": "aa395df2-ee72-4c89-c579-e05aa10cb70a"
      },
      "execution_count": null,
      "outputs": [
        {
          "output_type": "execute_result",
          "data": {
            "text/plain": [
              "'Jutro'"
            ],
            "application/vnd.google.colaboratory.intrinsic+json": {
              "type": "string"
            }
          },
          "metadata": {},
          "execution_count": 17
        }
      ]
    },
    {
      "cell_type": "code",
      "source": [
        "def grade(points):\n",
        "  if points >= 15:\n",
        "    return \"Bardzo dobry\"\n",
        "  elif points >= 10 and points < 15:\n",
        "    return \"Dobry\"\n",
        "  else:\n",
        "    return \"Niedostateczny\""
      ],
      "metadata": {
        "id": "r7ETAPU98j2i"
      },
      "execution_count": null,
      "outputs": []
    },
    {
      "cell_type": "code",
      "source": [
        "grade(4)"
      ],
      "metadata": {
        "colab": {
          "base_uri": "https://localhost:8080/",
          "height": 35
        },
        "id": "4rtAANkS9Zpn",
        "outputId": "2bac10c2-ba2f-46d1-e5a9-25079bbb7c1c"
      },
      "execution_count": null,
      "outputs": [
        {
          "output_type": "execute_result",
          "data": {
            "text/plain": [
              "'Niedostateczny'"
            ],
            "application/vnd.google.colaboratory.intrinsic+json": {
              "type": "string"
            }
          },
          "metadata": {},
          "execution_count": 19
        }
      ]
    },
    {
      "cell_type": "code",
      "source": [
        "df_testy[\"Ocena\"] = df_testy[\"Punkty\"].apply(grade)"
      ],
      "metadata": {
        "id": "2IjEbFg7-bDN",
        "colab": {
          "base_uri": "https://localhost:8080/",
          "height": 176
        },
        "outputId": "31dbf386-e175-4980-c4ea-d14500181cc0"
      },
      "execution_count": null,
      "outputs": [
        {
          "output_type": "error",
          "ename": "NameError",
          "evalue": "ignored",
          "traceback": [
            "\u001b[0;31m---------------------------------------------------------------------------\u001b[0m",
            "\u001b[0;31mNameError\u001b[0m                                 Traceback (most recent call last)",
            "\u001b[0;32m<ipython-input-20-2ba4c5311477>\u001b[0m in \u001b[0;36m<cell line: 1>\u001b[0;34m()\u001b[0m\n\u001b[0;32m----> 1\u001b[0;31m \u001b[0mdf_testy\u001b[0m\u001b[0;34m[\u001b[0m\u001b[0;34m\"Ocena\"\u001b[0m\u001b[0;34m]\u001b[0m \u001b[0;34m=\u001b[0m \u001b[0mdf_testy\u001b[0m\u001b[0;34m[\u001b[0m\u001b[0;34m\"Punkty\"\u001b[0m\u001b[0;34m]\u001b[0m\u001b[0;34m.\u001b[0m\u001b[0mapply\u001b[0m\u001b[0;34m(\u001b[0m\u001b[0mgrade\u001b[0m\u001b[0;34m)\u001b[0m\u001b[0;34m\u001b[0m\u001b[0;34m\u001b[0m\u001b[0m\n\u001b[0m",
            "\u001b[0;31mNameError\u001b[0m: name 'df_testy' is not defined"
          ]
        }
      ]
    },
    {
      "cell_type": "code",
      "source": [
        "import pandas as pd"
      ],
      "metadata": {
        "id": "Jc3ymRfdAoBk"
      },
      "execution_count": null,
      "outputs": []
    },
    {
      "cell_type": "code",
      "source": [
        " #Zadanie na teraz i domowe\n",
        " #1. wgraj plik titanic.csv z zeszłych zajęć do Pythona\n",
        " #Na podstawie kolumny \"Sex\" proszę stworzyć nową kolumnę o nazwie sex 2, w ktorej bedzie: dla female cyfra 1 (int); dla male -- cyfra 0 (int)"
      ],
      "metadata": {
        "id": "TkiZLqjG-bnK"
      },
      "execution_count": null,
      "outputs": []
    },
    {
      "cell_type": "code",
      "source": [
        "df_titanic = pd.read_csv(\"/content/drive/MyDrive/train.csv - train.csv (1).csv\")"
      ],
      "metadata": {
        "id": "Avp5OiDH_pln"
      },
      "execution_count": null,
      "outputs": []
    },
    {
      "cell_type": "code",
      "source": [
        "print(df_titanic)"
      ],
      "metadata": {
        "colab": {
          "base_uri": "https://localhost:8080/"
        },
        "id": "og1uWZpuV9EN",
        "outputId": "5527eadd-f1ed-4163-8e62-2ee0bf0f3bbe"
      },
      "execution_count": null,
      "outputs": [
        {
          "output_type": "stream",
          "name": "stdout",
          "text": [
            "     PassengerId  Survived  Pclass  \\\n",
            "0              1         0       3   \n",
            "1              2         1       1   \n",
            "2              3         1       3   \n",
            "3              4         1       1   \n",
            "4              5         0       3   \n",
            "..           ...       ...     ...   \n",
            "886          887         0       2   \n",
            "887          888         1       1   \n",
            "888          889         0       3   \n",
            "889          890         1       1   \n",
            "890          891         0       3   \n",
            "\n",
            "                                                  Name     Sex   Age  SibSp  \\\n",
            "0                              Braund, Mr. Owen Harris    male  22.0      1   \n",
            "1    Cumings, Mrs. John Bradley (Florence Briggs Th...  female  38.0      1   \n",
            "2                               Heikkinen, Miss. Laina  female  26.0      0   \n",
            "3         Futrelle, Mrs. Jacques Heath (Lily May Peel)  female  35.0      1   \n",
            "4                             Allen, Mr. William Henry    male  35.0      0   \n",
            "..                                                 ...     ...   ...    ...   \n",
            "886                              Montvila, Rev. Juozas    male  27.0      0   \n",
            "887                       Graham, Miss. Margaret Edith  female  19.0      0   \n",
            "888           Johnston, Miss. Catherine Helen \"Carrie\"  female   NaN      1   \n",
            "889                              Behr, Mr. Karl Howell    male  26.0      0   \n",
            "890                                Dooley, Mr. Patrick    male  32.0      0   \n",
            "\n",
            "     Parch            Ticket     Fare Cabin Embarked  \n",
            "0        0         A/5 21171   7.2500   NaN        S  \n",
            "1        0          PC 17599  71.2833   C85        C  \n",
            "2        0  STON/O2. 3101282   7.9250   NaN        S  \n",
            "3        0            113803  53.1000  C123        S  \n",
            "4        0            373450   8.0500   NaN        S  \n",
            "..     ...               ...      ...   ...      ...  \n",
            "886      0            211536  13.0000   NaN        S  \n",
            "887      0            112053  30.0000   B42        S  \n",
            "888      2        W./C. 6607  23.4500   NaN        S  \n",
            "889      0            111369  30.0000  C148        C  \n",
            "890      0            370376   7.7500   NaN        Q  \n",
            "\n",
            "[891 rows x 12 columns]\n"
          ]
        }
      ]
    },
    {
      "cell_type": "code",
      "source": [
        "from google.colab import drive\n",
        "drive.mount('/content/drive')"
      ],
      "metadata": {
        "colab": {
          "base_uri": "https://localhost:8080/"
        },
        "id": "BH6SCZDM_5rb",
        "outputId": "ccc4ee10-0d46-477d-dc50-70f61ba61193"
      },
      "execution_count": null,
      "outputs": [
        {
          "output_type": "stream",
          "name": "stdout",
          "text": [
            "Drive already mounted at /content/drive; to attempt to forcibly remount, call drive.mount(\"/content/drive\", force_remount=True).\n"
          ]
        }
      ]
    },
    {
      "cell_type": "code",
      "source": [
        "def sex2(sex):\n",
        "  if sex == \"female\":\n",
        "    return \"1\"\n",
        "  else:\n",
        "    return \"0\""
      ],
      "metadata": {
        "id": "lllMw3uvCmaY"
      },
      "execution_count": null,
      "outputs": []
    }
  ]
}