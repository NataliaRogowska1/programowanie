{
  "nbformat": 4,
  "nbformat_minor": 0,
  "metadata": {
    "colab": {
      "provenance": []
    },
    "kernelspec": {
      "name": "python3",
      "display_name": "Python 3"
    },
    "language_info": {
      "name": "python"
    }
  },
  "cells": [
    {
      "cell_type": "code",
      "execution_count": 1,
      "metadata": {
        "id": "5XhQMLTXbC7l"
      },
      "outputs": [],
      "source": [
        "zadanie = \"Uwielbiam zajecia z programowania\""
      ]
    },
    {
      "cell_type": "code",
      "source": [
        "zadanie[13:23]"
      ],
      "metadata": {
        "colab": {
          "base_uri": "https://localhost:8080/",
          "height": 35
        },
        "id": "ri-0Lo3xce1U",
        "outputId": "f76ab48c-18df-49c4-fa7e-ec64db7d4e79"
      },
      "execution_count": 2,
      "outputs": [
        {
          "output_type": "execute_result",
          "data": {
            "text/plain": [
              "'ecia z pro'"
            ],
            "application/vnd.google.colaboratory.intrinsic+json": {
              "type": "string"
            }
          },
          "metadata": {},
          "execution_count": 2
        }
      ]
    },
    {
      "cell_type": "code",
      "source": [
        "zadanie [-33: ]"
      ],
      "metadata": {
        "colab": {
          "base_uri": "https://localhost:8080/",
          "height": 35
        },
        "id": "QITAA4s0c7YA",
        "outputId": "143400d3-df34-4722-da5d-901865c3cdb1"
      },
      "execution_count": 3,
      "outputs": [
        {
          "output_type": "execute_result",
          "data": {
            "text/plain": [
              "'Uwielbiam zajecia z programowania'"
            ],
            "application/vnd.google.colaboratory.intrinsic+json": {
              "type": "string"
            }
          },
          "metadata": {},
          "execution_count": 3
        }
      ]
    },
    {
      "cell_type": "code",
      "source": [
        "zadanie [1:33:3]"
      ],
      "metadata": {
        "colab": {
          "base_uri": "https://localhost:8080/",
          "height": 35
        },
        "id": "_i3Qfsp9dntP",
        "outputId": "e95a294f-7062-48b8-e4c2-f4b93b883cf1"
      },
      "execution_count": 4,
      "outputs": [
        {
          "output_type": "execute_result",
          "data": {
            "text/plain": [
              "'wlazea oawi'"
            ],
            "application/vnd.google.colaboratory.intrinsic+json": {
              "type": "string"
            }
          },
          "metadata": {},
          "execution_count": 4
        }
      ]
    },
    {
      "cell_type": "code",
      "source": [
        "polecenie = \"Czarny to moj ulubiony kolor, niestety, kolor czarny bardzo szybko spiera sie z moich ubran\""
      ],
      "metadata": {
        "id": "b8yjqmA9dztN"
      },
      "execution_count": 17,
      "outputs": []
    },
    {
      "cell_type": "code",
      "source": [
        "polecenie.istitle()"
      ],
      "metadata": {
        "colab": {
          "base_uri": "https://localhost:8080/"
        },
        "id": "HSfPOoCGeTDM",
        "outputId": "f29a54da-3a0c-4a31-89c2-b6fe25c66191"
      },
      "execution_count": 18,
      "outputs": [
        {
          "output_type": "execute_result",
          "data": {
            "text/plain": [
              "False"
            ]
          },
          "metadata": {},
          "execution_count": 18
        }
      ]
    },
    {
      "cell_type": "code",
      "source": [
        "polecenie.find(\"C\")"
      ],
      "metadata": {
        "colab": {
          "base_uri": "https://localhost:8080/"
        },
        "id": "dZ94kXkVebu7",
        "outputId": "d77e7f7a-3f41-4abe-e02a-fc6ecac001eb"
      },
      "execution_count": 19,
      "outputs": [
        {
          "output_type": "execute_result",
          "data": {
            "text/plain": [
              "0"
            ]
          },
          "metadata": {},
          "execution_count": 19
        }
      ]
    },
    {
      "cell_type": "code",
      "source": [
        "polecenie = polecenie.lower()\n",
        "polecenie = polecenie.replace(\"czarny\", \"bialy\")\n",
        "polecenie = polecenie.capitalize()\n",
        "print(polecenie)"
      ],
      "metadata": {
        "id": "qLY2wfFhfzgJ",
        "colab": {
          "base_uri": "https://localhost:8080/"
        },
        "outputId": "32f45f47-2b49-4bf8-fae0-44d3e7e181a4"
      },
      "execution_count": 10,
      "outputs": [
        {
          "output_type": "stream",
          "name": "stdout",
          "text": [
            "Bialy to moj ulubiony kolor, niestety, kolor bialy bardzo szybko spiera sie z moich ubran\n"
          ]
        }
      ]
    }
  ]
}