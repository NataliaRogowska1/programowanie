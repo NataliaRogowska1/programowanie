{
  "nbformat": 4,
  "nbformat_minor": 0,
  "metadata": {
    "colab": {
      "provenance": []
    },
    "kernelspec": {
      "name": "python3",
      "display_name": "Python 3"
    },
    "language_info": {
      "name": "python"
    }
  },
  "cells": [
    {
      "cell_type": "code",
      "source": [
        "import pandas as pd\n",
        "import re\n",
        "import spacy as spc\n",
        "import matplotlib.pyplot as mat"
      ],
      "metadata": {
        "id": "SOt5IC8KeI3T"
      },
      "execution_count": 3,
      "outputs": []
    },
    {
      "cell_type": "code",
      "source": [
        "!python -m spacy download pl_core_news_lg"
      ],
      "metadata": {
        "id": "z_0pBfUze_0l"
      },
      "execution_count": null,
      "outputs": []
    },
    {
      "cell_type": "code",
      "source": [
        "df = pd.read_csv('/content/dane8.csv')\n",
        "nlp = spc.load('pl_core_news_lg')"
      ],
      "metadata": {
        "id": "dC8lsL-HfVoA"
      },
      "execution_count": 5,
      "outputs": []
    },
    {
      "cell_type": "code",
      "source": [
        "#Część I - przetwarzanie i oczyszczanie danych"
      ],
      "metadata": {
        "id": "nCq4o_cFg9bO"
      },
      "execution_count": null,
      "outputs": []
    },
    {
      "cell_type": "code",
      "source": [
        "df['created_at'] = df['created_at'].str.replace('Mon', 'Poniedziałek') \\\n",
        "    .str.replace('Tue', 'Wtorek') \\\n",
        "    .str.replace('Wed', 'Środa') \\\n",
        "    .str.replace('Thu', 'Czwartek') \\\n",
        "    .str.replace('Fri', 'Piątek') \\\n",
        "    .str.replace('Sat', 'Sobota') \\\n",
        "    .str.replace('Sun', 'Niedziela')"
      ],
      "metadata": {
        "id": "hySCSh2HhC4d"
      },
      "execution_count": 6,
      "outputs": []
    },
    {
      "cell_type": "code",
      "source": [
        "df['user_created_at'] = df['user_created_at'].str.replace('Jan', '01') \\\n",
        "    .str.replace('Feb', '02') \\\n",
        "    .str.replace('Mar', '03') \\\n",
        "    .str.replace('Apr', '04') \\\n",
        "    .str.replace('May', '05') \\\n",
        "    .str.replace('Jun', '06') \\\n",
        "    .str.replace('Jul', '07') \\\n",
        "    .str.replace('Aug', '08') \\\n",
        "    .str.replace('Sep', '09') \\\n",
        "    .str.replace('Oct', '10') \\\n",
        "    .str.replace('Nov', '11') \\\n",
        "    .str.replace('Dec', '12')"
      ],
      "metadata": {
        "id": "sYHPWIn5hZzr"
      },
      "execution_count": 7,
      "outputs": []
    },
    {
      "cell_type": "code",
      "source": [
        "links_tweets = df['tweet_url'].tolist()"
      ],
      "metadata": {
        "id": "SLWvSjzqjtom"
      },
      "execution_count": 8,
      "outputs": []
    },
    {
      "cell_type": "code",
      "source": [
        "urls_without_nan = df.dropna(subset=['urls'])\n",
        "urls_new = urls_without_nan['urls'].tolist()"
      ],
      "metadata": {
        "id": "ni5SXo1mkNIr"
      },
      "execution_count": 9,
      "outputs": []
    },
    {
      "cell_type": "code",
      "source": [
        "media_without_na = df.dropna(subset=['media'])\n",
        "media_new = media_without_na['media'].tolist()"
      ],
      "metadata": {
        "id": "f80x-eqIK7di"
      },
      "execution_count": 10,
      "outputs": []
    },
    {
      "cell_type": "code",
      "source": [
        "stopwords = ['a', 'i', 'to', 'oraz', 'w', 'z', 'na']\n",
        "\n",
        "df['text'].replace ('stopwords', '')\n",
        "\n",
        "def no_stopwords(text):\n",
        "    doc = nlp(text)\n",
        "    return ' '.join([token.text for token in doc if not token.is_stop])\n",
        "\n",
        "df['text_without_stopwords'] = df['text'].apply(no_stopwords)"
      ],
      "metadata": {
        "id": "UChJ86l7LB8V"
      },
      "execution_count": 11,
      "outputs": []
    },
    {
      "cell_type": "code",
      "source": [
        "#Część 2 - eksploracyjna analiza danych"
      ],
      "metadata": {
        "id": "zRyTYgedHetG"
      },
      "execution_count": null,
      "outputs": []
    },
    {
      "cell_type": "code",
      "source": [
        "top5_tweets_likes = df.nlargest(5, 'favorite_count')\n",
        "top5_tweets_likes"
      ],
      "metadata": {
        "id": "5ea3ARyhHjTV"
      },
      "execution_count": null,
      "outputs": []
    },
    {
      "cell_type": "code",
      "source": [
        "top5_tweets_retweets = df.nlargest(5, 'retweet_count')\n",
        "top5_tweets_retweets"
      ],
      "metadata": {
        "id": "nra-j1-6HyCI"
      },
      "execution_count": null,
      "outputs": []
    },
    {
      "cell_type": "code",
      "source": [
        "non_sensitive_tweets = df[df['possibly_sensitive'] == True]\n",
        "non_sensitive_tweets"
      ],
      "metadata": {
        "id": "LVbrzhb6IAgp"
      },
      "execution_count": null,
      "outputs": []
    },
    {
      "cell_type": "code",
      "source": [
        "user_followers = df.nlargest (1,'user_followers_count')\n",
        "user_followers"
      ],
      "metadata": {
        "id": "FuYd8TxKOz6A"
      },
      "execution_count": null,
      "outputs": []
    },
    {
      "cell_type": "code",
      "source": [
        "verified_users_tweets = df[df['user_verified'] == True]\n",
        "verified_users_tweets"
      ],
      "metadata": {
        "id": "aMro9qH-PBZ2"
      },
      "execution_count": null,
      "outputs": []
    },
    {
      "cell_type": "code",
      "source": [
        "#Część 3 - przetwarzanie języka naturalnego"
      ],
      "metadata": {
        "id": "A4wuEUvuPRnP"
      },
      "execution_count": null,
      "outputs": []
    },
    {
      "cell_type": "code",
      "source": [
        "persons = []\n",
        "locations = []\n",
        "organizations = []\n",
        "\n",
        "for entity in df['text']:\n",
        "    doc = nlp(entity)\n",
        "    persons_in_row = [ent.text for ent in doc.ents if ent.label_ == 'persName']\n",
        "    locations_in_row = [ent.text for ent in doc.ents if ent.label_ == 'placeName']\n",
        "    organizations_in_row = [ent.text for ent in doc.ents if ent.label_ == 'orgName']\n",
        "\n",
        "    persons.append(persons_in_row)\n",
        "    locations.append(locations_in_row)\n",
        "    organizations.append(organizations_in_row)\n",
        "\n",
        "df['persons'] = persons\n",
        "df['locations'] = locations\n",
        "df['organizations'] = organizations"
      ],
      "metadata": {
        "id": "zOPgCTypP8X0"
      },
      "execution_count": 17,
      "outputs": []
    },
    {
      "cell_type": "code",
      "source": [
        "#Część 4 - rozwiązywanie problemów/umiejętność interpretowania dokumentacji"
      ],
      "metadata": {
        "id": "ulMZ9_fzQiVC"
      },
      "execution_count": null,
      "outputs": []
    },
    {
      "cell_type": "code",
      "source": [
        "df = pd.read_csv('/content/dane8.csv')\n",
        "data = {'created_at': ['Tue Jul 17 17:39:49 +0000 2018',\n",
        "                              'Wed Jul 18 12:20:30 +0000 2018',\n",
        "                              'Thu Jul 19 08:45:15 +0000 2018',\n",
        "                              'Fri Jul 20 22:10:05 +0000 2018',\n",
        "                              'Sat Jul 21 18:30:40 +0000 2018',\n",
        "                              'Sun Jul 22 14:55:22 +0000 2018',\n",
        "                              'Mon Jul 23 09:25:11 +0000 2018']}\n",
        "\n",
        "df['created_at'] = pd.to_datetime(df['created_at'], format='%a %b %d %H:%M:%S +0000 %Y')\n",
        "\n",
        "df.set_index('created_at', inplace=True)\n",
        "\n",
        "mat.figure(figsize=(15, 12))\n",
        "df.resample('D').size().plot(kind='bar', color='blue')\n",
        "mat.title('Liczba tweetów na dzień tygodnia')\n",
        "mat.xlabel('Dzień tygodnia')\n",
        "mat.ylabel('Liczba tweetów')\n",
        "mat.xticks(rotation=30)\n",
        "mat.show()"
      ],
      "metadata": {
        "colab": {
          "base_uri": "https://localhost:8080/",
          "height": 979
        },
        "id": "Y5thM5A1QkEL",
        "outputId": "7ba1cd66-591e-416d-d304-e24ebcfca999"
      },
      "execution_count": 18,
      "outputs": [
        {
          "output_type": "display_data",
          "data": {
            "text/plain": [
              "<Figure size 1500x1200 with 1 Axes>"
            ],
            "image/png": "[encoded data removed]"
          },
          "metadata": {}
        }
      ]
    }
  ]
}