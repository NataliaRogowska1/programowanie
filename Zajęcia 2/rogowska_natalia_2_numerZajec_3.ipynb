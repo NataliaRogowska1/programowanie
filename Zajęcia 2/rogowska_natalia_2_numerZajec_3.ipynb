{
  "nbformat": 4,
  "nbformat_minor": 0,
  "metadata": {
    "colab": {
      "provenance": []
    },
    "kernelspec": {
      "name": "python3",
      "display_name": "Python 3"
    },
    "language_info": {
      "name": "python"
    }
  },
  "cells": [
    {
      "cell_type": "markdown",
      "source": [
        "Zadanie 1"
      ],
      "metadata": {
        "id": "7G0TM-arX13u"
      }
    },
    {
      "cell_type": "code",
      "execution_count": null,
      "metadata": {
        "colab": {
          "base_uri": "https://localhost:8080/"
        },
        "id": "nORHvMWF658l",
        "outputId": "851f8fa7-7196-4c9a-a172-9ad1d6b05dc2"
      },
      "outputs": [
        {
          "name": "stdout",
          "output_type": "stream",
          "text": [
            "Jak masz na imię? Pola\n"
          ]
        }
      ],
      "source": [
        "imie = input (\"Jak masz na imię? \")"
      ]
    },
    {
      "cell_type": "code",
      "source": [
        "if imie.isdigit():\n",
        "  print (\"Użyj jedynie liter\")\n",
        "else:\n",
        "  print (imie)"
      ],
      "metadata": {
        "colab": {
          "base_uri": "https://localhost:8080/"
        },
        "id": "xPYWdPnZEYia",
        "outputId": "cbf93931-f632-46aa-a857-09e757a6de9d"
      },
      "execution_count": null,
      "outputs": [
        {
          "output_type": "stream",
          "name": "stdout",
          "text": [
            "Pola\n"
          ]
        }
      ]
    },
    {
      "cell_type": "code",
      "source": [
        "nazwisko = input (\"Jakie masz nazwisko? \")"
      ],
      "metadata": {
        "colab": {
          "base_uri": "https://localhost:8080/"
        },
        "id": "U3wBIJNYEugZ",
        "outputId": "2650c60a-1726-467c-9efe-99ce788f04bf"
      },
      "execution_count": null,
      "outputs": [
        {
          "name": "stdout",
          "output_type": "stream",
          "text": [
            "Jakie masz nazwisko? 111\n"
          ]
        }
      ]
    },
    {
      "cell_type": "code",
      "source": [
        "if nazwisko.isdigit:\n",
        "  print (\"Użyj jedynie liter\")\n",
        "else:\n",
        "  print (nazwisko)"
      ],
      "metadata": {
        "colab": {
          "base_uri": "https://localhost:8080/"
        },
        "id": "nfs6RaKYF42o",
        "outputId": "0cfc363f-f990-41ee-b26e-a156530cbdb1"
      },
      "execution_count": null,
      "outputs": [
        {
          "output_type": "stream",
          "name": "stdout",
          "text": [
            "Użyj jedynie liter\n"
          ]
        }
      ]
    },
    {
      "cell_type": "code",
      "source": [
        "wiek = input (\"Ile masz lat? \")"
      ],
      "metadata": {
        "id": "8Cs9Qd6DGAin",
        "colab": {
          "base_uri": "https://localhost:8080/"
        },
        "outputId": "e8562e24-f8c0-45bb-c65d-61aa6bb4aa08"
      },
      "execution_count": null,
      "outputs": [
        {
          "name": "stdout",
          "output_type": "stream",
          "text": [
            "Ile masz lat? 20\n"
          ]
        }
      ]
    },
    {
      "cell_type": "code",
      "source": [
        "if wiek.isdigit:\n",
        "  print (wiek)\n",
        "else:\n",
        "  print (\"Użyj jedynie cyfr\")"
      ],
      "metadata": {
        "colab": {
          "base_uri": "https://localhost:8080/"
        },
        "id": "OZxwbhrfJV9M",
        "outputId": "2bbd951d-4be1-4bb1-fc79-de9ce3856d52"
      },
      "execution_count": null,
      "outputs": [
        {
          "output_type": "stream",
          "name": "stdout",
          "text": [
            "20\n"
          ]
        }
      ]
    },
    {
      "cell_type": "code",
      "source": [
        "haslo = input (\"Wpisz hasło \")"
      ],
      "metadata": {
        "colab": {
          "base_uri": "https://localhost:8080/"
        },
        "id": "_-JnpFZrJxeT",
        "outputId": "91680e7a-1657-41a7-b340-bcffa24a89f1"
      },
      "execution_count": null,
      "outputs": [
        {
          "name": "stdout",
          "output_type": "stream",
          "text": [
            "Wpisz hasło 111\n"
          ]
        }
      ]
    },
    {
      "cell_type": "code",
      "source": [
        "haslodwa = input (\"Wpisz hasło ponownie \")"
      ],
      "metadata": {
        "colab": {
          "base_uri": "https://localhost:8080/"
        },
        "id": "Go4mhaipK76x",
        "outputId": "e5d88a29-b1bc-4498-e236-2228201e7f96"
      },
      "execution_count": null,
      "outputs": [
        {
          "name": "stdout",
          "output_type": "stream",
          "text": [
            "Wpisz hasło ponownie 112\n"
          ]
        }
      ]
    },
    {
      "cell_type": "code",
      "source": [
        "if haslo == haslodwa:\n",
        "  print (\"Hasło prawidłowe \")\n",
        "else:\n",
        "  print (\"Sprawdź poprawność wpisanych haseł \")"
      ],
      "metadata": {
        "colab": {
          "base_uri": "https://localhost:8080/"
        },
        "id": "eOf-AOtQLckK",
        "outputId": "ec0f4bfa-21c0-44af-b947-117f2c5ba0f5"
      },
      "execution_count": null,
      "outputs": [
        {
          "output_type": "stream",
          "name": "stdout",
          "text": [
            "Sprawdź poprawność wpisanych haseł \n"
          ]
        }
      ]
    },
    {
      "cell_type": "markdown",
      "source": [
        "Zadanie 2"
      ],
      "metadata": {
        "id": "To9mtvX7Xxk1"
      }
    },
    {
      "cell_type": "code",
      "source": [
        "def dodawanie (a, b):\n",
        "  return a + b"
      ],
      "metadata": {
        "id": "mmAouK_6NaSO"
      },
      "execution_count": null,
      "outputs": []
    },
    {
      "cell_type": "code",
      "source": [
        "def odejmowanie (a, b):\n",
        "  return a - b"
      ],
      "metadata": {
        "id": "WRtNzhM5Z8Bf"
      },
      "execution_count": null,
      "outputs": []
    },
    {
      "cell_type": "code",
      "source": [
        "def mnożenie (a, b):\n",
        "  return a * b"
      ],
      "metadata": {
        "id": "pBGV1R6YaT3K"
      },
      "execution_count": null,
      "outputs": []
    },
    {
      "cell_type": "code",
      "source": [
        "def dzielenie (a, b):\n",
        "  return a / b"
      ],
      "metadata": {
        "id": "buWG_rWfaobg"
      },
      "execution_count": null,
      "outputs": []
    },
    {
      "cell_type": "code",
      "source": [
        "operacje = {\n",
        "    '1': dodawanie,\n",
        "    '2': odejmowanie,\n",
        "    '3': mnożenie,\n",
        "    '4': dzielenie\n",
        "}"
      ],
      "metadata": {
        "id": "JufvTPJ4av0N"
      },
      "execution_count": null,
      "outputs": []
    },
    {
      "cell_type": "code",
      "source": [
        "print(\"Wybierz operację:\")\n",
        "print(\"1. Dodawanie\")\n",
        "print(\"2. Odejmowanie\")\n",
        "print(\"3. Mnożenie\")\n",
        "print(\"4. Dzielenie\")"
      ],
      "metadata": {
        "colab": {
          "base_uri": "https://localhost:8080/"
        },
        "id": "OhBGVPK2bEK2",
        "outputId": "a1c47e05-808c-4768-8a58-93e4debe69ef"
      },
      "execution_count": null,
      "outputs": [
        {
          "output_type": "stream",
          "name": "stdout",
          "text": [
            "Wybierz operację:\n",
            "1. Dodawanie\n",
            "2. Odejmowanie\n",
            "3. Mnożenie\n",
            "4. Dzielenie\n"
          ]
        }
      ]
    },
    {
      "cell_type": "code",
      "source": [
        "wybor = input(\"Wprowadź numer operacji (1/2/3/4): \")"
      ],
      "metadata": {
        "colab": {
          "base_uri": "https://localhost:8080/"
        },
        "id": "IKRFZ_e6bJjZ",
        "outputId": "31e0d893-3220-4ce5-ec2d-3096172d2715"
      },
      "execution_count": null,
      "outputs": [
        {
          "name": "stdout",
          "output_type": "stream",
          "text": [
            "Wprowadź numer operacji (1/2/3/4): 3\n"
          ]
        }
      ]
    },
    {
      "cell_type": "code",
      "source": [
        "if wybor in operacje:\n",
        "    liczba1 = float(input(\"Podaj pierwszą liczbę: \"))\n",
        "    liczba2 = float(input(\"Podaj drugą liczbę: \"))"
      ],
      "metadata": {
        "colab": {
          "base_uri": "https://localhost:8080/"
        },
        "id": "CoOM0m53cJTI",
        "outputId": "c95f4f61-d16d-489d-95d7-82e2a57b87df"
      },
      "execution_count": null,
      "outputs": [
        {
          "name": "stdout",
          "output_type": "stream",
          "text": [
            "Podaj pierwszą liczbę: 1\n",
            "Podaj drugą liczbę: 2\n"
          ]
        }
      ]
    },
    {
      "cell_type": "code",
      "source": [
        "if wybor == '1':\n",
        "    print(liczba1, \"+\", liczba2, \"=\", dodawanie(liczba1, liczba2))\n",
        "elif wybor == '2':\n",
        "    print(liczba1, \"-\", liczba2, \"=\", odejmowanie(liczba1, liczba2))\n",
        "elif wybor == '3':\n",
        "    print(liczba1, \"*\", liczba2, \"=\", mnożenie(liczba1, liczba2))\n",
        "elif wybor == '4':\n",
        "    print(liczba1, \"/\", liczba2, \"=\", dzielenie(liczba1, liczba2))\n",
        "else:\n",
        "    print(\"Błąd: Niepoprawny wybór operacji\")"
      ],
      "metadata": {
        "colab": {
          "base_uri": "https://localhost:8080/"
        },
        "id": "bni6xbt8eQQg",
        "outputId": "e881697c-1904-430f-c793-6f56ae622665"
      },
      "execution_count": null,
      "outputs": [
        {
          "output_type": "stream",
          "name": "stdout",
          "text": [
            "1.0 * 2.0 = 2.0\n"
          ]
        }
      ]
    }
  ]
}